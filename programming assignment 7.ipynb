{
 "cells": [
  {
   "cell_type": "markdown",
   "id": "201866c3",
   "metadata": {},
   "source": [
    "# 1. Write a Python Program to find sum of array?"
   ]
  },
  {
   "cell_type": "code",
   "execution_count": 4,
   "id": "4ce0134a",
   "metadata": {},
   "outputs": [
    {
     "name": "stdout",
     "output_type": "stream",
     "text": [
      "21\n"
     ]
    }
   ],
   "source": [
    "#method1\n",
    "from array import *\n",
    "a1=array('i',[1,2,3,4,5,6])\n",
    "sums=0\n",
    "for i in a1:\n",
    "    sums+=i\n",
    "print(sums)"
   ]
  },
  {
   "cell_type": "code",
   "execution_count": 7,
   "id": "d5476ee7",
   "metadata": {},
   "outputs": [
    {
     "data": {
      "text/plain": [
       "21"
      ]
     },
     "execution_count": 7,
     "metadata": {},
     "output_type": "execute_result"
    }
   ],
   "source": [
    "#method 2\n",
    "from array import *\n",
    "a1=array('i',[1,2,3,4,5,6])\n",
    "sum(a1)"
   ]
  },
  {
   "cell_type": "markdown",
   "id": "ab05d2bf",
   "metadata": {},
   "source": [
    "# 2. Write a Python Program to find largest element in an array?"
   ]
  },
  {
   "cell_type": "code",
   "execution_count": 9,
   "id": "ca58a208",
   "metadata": {},
   "outputs": [
    {
     "data": {
      "text/plain": [
       "6"
      ]
     },
     "execution_count": 9,
     "metadata": {},
     "output_type": "execute_result"
    }
   ],
   "source": [
    "from array import *\n",
    "a1=array('i',[1,2,3,4,5,6])\n",
    "max(a1)"
   ]
  },
  {
   "cell_type": "code",
   "execution_count": 13,
   "id": "9fb25055",
   "metadata": {},
   "outputs": [
    {
     "name": "stdout",
     "output_type": "stream",
     "text": [
      "6\n"
     ]
    }
   ],
   "source": [
    "from array import *\n",
    "a1=array('i',[1,2,3,4,5,6])\n",
    "\n",
    "a=a1[1]\n",
    "for i in a1:\n",
    "    if i > a:\n",
    "        a=i\n",
    "print (a)\n",
    "    "
   ]
  },
  {
   "cell_type": "markdown",
   "id": "0f0b4da7",
   "metadata": {},
   "source": [
    "# 3. Write a Python Program for array rotation?"
   ]
  },
  {
   "cell_type": "code",
   "execution_count": 6,
   "id": "221a22db",
   "metadata": {},
   "outputs": [
    {
     "name": "stdout",
     "output_type": "stream",
     "text": [
      "array('i', [6, 5, 4, 3, 2, 1])\n"
     ]
    }
   ],
   "source": [
    "from array import *\n",
    "a1=array('i',[1,2,3,4,5,6])\n",
    "a1.reverse()\n",
    "print(a1)"
   ]
  },
  {
   "cell_type": "markdown",
   "id": "cf47b014",
   "metadata": {},
   "source": [
    "# 4. Write a Python Program to Split the array and add the first part to the end?"
   ]
  },
  {
   "cell_type": "code",
   "execution_count": 17,
   "id": "767d444c",
   "metadata": {},
   "outputs": [
    {
     "name": "stdout",
     "output_type": "stream",
     "text": [
      "7\n"
     ]
    }
   ],
   "source": [
    "from array import *\n",
    "a1=array('i',[1,2,3,4,5,6])\n",
    "a1sum=a1[0]+a1[-1]\n",
    "print(a1sum)"
   ]
  },
  {
   "cell_type": "markdown",
   "id": "6fad7fbc",
   "metadata": {},
   "source": [
    "# 5. Write a Python Program to check if given array is Monotonic?"
   ]
  },
  {
   "cell_type": "code",
   "execution_count": 1,
   "id": "a0f42235",
   "metadata": {},
   "outputs": [
    {
     "name": "stdout",
     "output_type": "stream",
     "text": [
      "Enter the Array: [1,2,3,4,5]\n",
      "Array [1, 2, 3, 4, 5] is Monotonic\n",
      "Enter the Array: 4,2,4,5,6,1\n",
      "Array (4, 2, 4, 5, 6, 1) is Not Monotonic\n"
     ]
    }
   ],
   "source": [
    "def checkMonotonic():\n",
    "    in_arr = eval(input(\"Enter the Array: \"))\n",
    "    if(all(in_arr[i]<=in_arr[i+1] for i in range(len(in_arr)-1)) or all(in_arr[i]>=in_arr[i+1] for i in range(len(in_arr)-1))):\n",
    "        print(f'Array {in_arr} is Monotonic')\n",
    "    else:\n",
    "        print(f'Array {in_arr} is Not Monotonic')\n",
    "\n",
    "checkMonotonic()\n",
    "checkMonotonic()\n"
   ]
  },
  {
   "cell_type": "code",
   "execution_count": null,
   "id": "bf30c4ab",
   "metadata": {},
   "outputs": [],
   "source": []
  }
 ],
 "metadata": {
  "kernelspec": {
   "display_name": "Python 3 (ipykernel)",
   "language": "python",
   "name": "python3"
  },
  "language_info": {
   "codemirror_mode": {
    "name": "ipython",
    "version": 3
   },
   "file_extension": ".py",
   "mimetype": "text/x-python",
   "name": "python",
   "nbconvert_exporter": "python",
   "pygments_lexer": "ipython3",
   "version": "3.9.13"
  }
 },
 "nbformat": 4,
 "nbformat_minor": 5
}
