{
 "cells": [
  {
   "cell_type": "markdown",
   "id": "42c490bf",
   "metadata": {},
   "source": [
    "# q.1. What are the new features added in Python 3.8 version?\n",
    "\n",
    "Python 3.8 introduced several new features, including:\n",
    "\n",
    "Assignment Expressions (the Walrus Operator) - allows you to assign values to variables as part of a larger expression.\n",
    "Positional-Only Parameters - allows you to specify function parameters that can only be passed positionally and not as keyword arguments.\n",
    "f-strings now support = to allow for easier debugging and readability.\n",
    "The math.isqrt() function was added, which returns the integer square root of a number.\n",
    "Improvements to typing, including Literal types and TypedDict.\n",
    "Vectorcall: a new calling protocol for optimized calls to Python functions.\n",
    "\n",
    "# q.2. What is monkey patching in Python?\n",
    "\n",
    "Monkey patching in Python refers to the practice of modifying code at runtime by replacing, adding, or deleting attributes or methods from an object. This can be useful for testing or for making temporary changes to an application's behavior. However, monkey patching can also be dangerous and can lead to unexpected behavior, so it should be used with caution.\n",
    "\n",
    "# q.3. What is the difference between a shallow copy and deep copy?\n",
    "\n",
    "In Python, a shallow copy of an object creates a new object with a new memory address, but the contents of the new object still refer to the same objects as the original. A deep copy, on the other hand, creates a completely new object with new memory addresses for all of its contents.\n",
    "\n",
    "In other words, a shallow copy creates a new container but references the same elements as the original container, while a deep copy creates a new container and copies all the elements of the original container.\n",
    "\n",
    "# q.4. What is the maximum possible length of an identifier?\n",
    "\n",
    "In Python, the maximum possible length of an identifier is implementation-dependent, meaning that it can vary depending on the specific Python implementation being used. However, in practice, most implementations set the maximum length to around 255 characters.\n",
    "\n",
    "# q.5. What is generator comprehension?\n",
    "\n",
    "Generator comprehension is a concise way to create a generator object in Python. It is similar to list comprehension, but instead of creating a list, it creates a generator that can be iterated over.\n",
    "\n",
    "The syntax for generator comprehension is similar to that of list comprehension, but instead of using square brackets, it uses parentheses. For example, (x for x in range(10)) creates a generator that yields numbers from 0 to 9. The generator comprehension can be useful for generating large datasets without consuming excessive memory.\n",
    "\n",
    "\n",
    "\n",
    "\n",
    "\n"
   ]
  },
  {
   "cell_type": "code",
   "execution_count": null,
   "id": "80a7c98f",
   "metadata": {},
   "outputs": [],
   "source": []
  }
 ],
 "metadata": {
  "kernelspec": {
   "display_name": "Python 3 (ipykernel)",
   "language": "python",
   "name": "python3"
  },
  "language_info": {
   "codemirror_mode": {
    "name": "ipython",
    "version": 3
   },
   "file_extension": ".py",
   "mimetype": "text/x-python",
   "name": "python",
   "nbconvert_exporter": "python",
   "pygments_lexer": "ipython3",
   "version": "3.9.13"
  }
 },
 "nbformat": 4,
 "nbformat_minor": 5
}
