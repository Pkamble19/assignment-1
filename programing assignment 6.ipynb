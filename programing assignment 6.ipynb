{
 "cells": [
  {
   "cell_type": "markdown",
   "id": "17ed2529",
   "metadata": {},
   "source": [
    "# 1. Write a Python Program to Display Fibonacci Sequence using Recursion ?"
   ]
  },
  {
   "cell_type": "code",
   "execution_count": 2,
   "id": "38851505",
   "metadata": {},
   "outputs": [
    {
     "name": "stdout",
     "output_type": "stream",
     "text": [
      "entre number here10\n",
      "0\n",
      "1\n",
      "1\n",
      "2\n",
      "3\n",
      "5\n",
      "8\n",
      "13\n",
      "21\n",
      "34\n"
     ]
    }
   ],
   "source": [
    "def Fibonacci(n):\n",
    "    if n <=1 :\n",
    "        return (n)\n",
    "    else:\n",
    "        return (Fibonacci(n-1) + Fibonacci(n-2))\n",
    "Fibonacci(10)\n",
    "\n",
    "inp=int(input('entre number here'))\n",
    "if inp <= 0:\n",
    "    print('entre valid number')\n",
    "else:\n",
    "    for i in range(inp):\n",
    "        print(Fibonacci(i))"
   ]
  },
  {
   "cell_type": "markdown",
   "id": "ddcc135e",
   "metadata": {},
   "source": [
    "# 2. Write a Python Program to Find Factorial of a Number using Recursion ?"
   ]
  },
  {
   "cell_type": "code",
   "execution_count": 21,
   "id": "7f918844",
   "metadata": {},
   "outputs": [
    {
     "name": "stdout",
     "output_type": "stream",
     "text": [
      "3628800\n"
     ]
    }
   ],
   "source": [
    "def fact(n):\n",
    "    fac=1\n",
    "    while (n > 0):\n",
    "        fac=fac*n\n",
    "        n=n-1\n",
    "    print (fac)\n",
    "    \n",
    "fact(10)"
   ]
  },
  {
   "cell_type": "markdown",
   "id": "34ab7be9",
   "metadata": {},
   "source": [
    "# 3. Write a Python Program to Calculate your Body Mass Index ?"
   ]
  },
  {
   "cell_type": "code",
   "execution_count": 18,
   "id": "e3110441",
   "metadata": {},
   "outputs": [
    {
     "name": "stdout",
     "output_type": "stream",
     "text": [
      "entre your weight in kg= 105\n",
      "entre your hight in cm =178\n",
      "Your Body Mass Index is 33.13975508142911\n",
      "Seesh! You are obese.\n"
     ]
    }
   ],
   "source": [
    "def bmi(weight,height):\n",
    "    bmic= (weight/((height/100)**2))\n",
    "    \n",
    "    print(\"Your Body Mass Index is\", the_BMI)  \n",
    "    # using the if-elif-else conditions  \n",
    "    if bmic <= 18.5:  \n",
    "        print(\"Oops! You are underweight.\")  \n",
    "    elif bmic <= 24.9:  \n",
    "        print(\"Awesome! You are healthy.\")  \n",
    "    elif bmic <= 29.9:  \n",
    "        print(\"Eee! You are over weight.\")  \n",
    "    else:  \n",
    "        print(\"Seesh! You are obese.\")  \n",
    "\n",
    "    \n",
    "weight=input('entre your weight in kg= ')\n",
    "height= input('entre your hight in cm =')\n",
    "\n",
    "bmi(float(weight),float(height))"
   ]
  },
  {
   "cell_type": "markdown",
   "id": "5eacfda5",
   "metadata": {},
   "source": [
    "# 4. Write a Python Program to Calculate the Natural Logarithm of any Number ?"
   ]
  },
  {
   "cell_type": "code",
   "execution_count": 19,
   "id": "75b835dd",
   "metadata": {},
   "outputs": [
    {
     "name": "stdout",
     "output_type": "stream",
     "text": [
      "Enter a Number:35\n",
      "3.5553480614894135\n"
     ]
    }
   ],
   "source": [
    "import math\n",
    "def genNatLog():\n",
    "    in_num = eval(input(\"Enter a Number:\"))\n",
    "    print(math.log(in_num))\n",
    "\n",
    "genNatLog()"
   ]
  },
  {
   "cell_type": "markdown",
   "id": "e5fc37ec",
   "metadata": {},
   "source": [
    "# 5. Write a Python Program for Cube sum of first n Natural Numbers ?"
   ]
  },
  {
   "cell_type": "code",
   "execution_count": 20,
   "id": "c4d44189",
   "metadata": {},
   "outputs": [
    {
     "name": "stdout",
     "output_type": "stream",
     "text": [
      "Enter the no of Natural Numbers: 10\n",
      "The Cube Sum of First 10 Natural Numbers is 3025.0\n"
     ]
    }
   ],
   "source": [
    "def cubeOfNaturalNumbers():\n",
    "    in_num = int(input(\"Enter the no of Natural Numbers: \"))\n",
    "    result = pow(((in_num * (in_num +1))/2),2)\n",
    "    print(f'The Cube Sum of First {in_num} Natural Numbers is {result}')\n",
    "\n",
    "cubeOfNaturalNumbers()"
   ]
  },
  {
   "cell_type": "code",
   "execution_count": null,
   "id": "586e6a26",
   "metadata": {},
   "outputs": [],
   "source": []
  }
 ],
 "metadata": {
  "kernelspec": {
   "display_name": "Python 3 (ipykernel)",
   "language": "python",
   "name": "python3"
  },
  "language_info": {
   "codemirror_mode": {
    "name": "ipython",
    "version": 3
   },
   "file_extension": ".py",
   "mimetype": "text/x-python",
   "name": "python",
   "nbconvert_exporter": "python",
   "pygments_lexer": "ipython3",
   "version": "3.9.13"
  }
 },
 "nbformat": 4,
 "nbformat_minor": 5
}
