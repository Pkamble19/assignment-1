{
 "cells": [
  {
   "cell_type": "markdown",
   "id": "9d1e1809",
   "metadata": {},
   "source": [
    "# Question 1\n",
    "# Create a function that takes a number as an argument and returns True or False depending\n",
    "# on whether the number is symmetrical or not. A number is symmetrical when it is the same as its reverse.\n",
    "# Examples\n",
    "# is_symmetrical(7227) ➞ True\n",
    "# is_symmetrical(12567) ➞ False\n",
    "# is_symmetrical(44444444) ➞ True\n",
    "# is_symmetrical(9939) ➞ False\n",
    "# is_symmetrical(1112111) ➞ True"
   ]
  },
  {
   "cell_type": "code",
   "execution_count": 10,
   "id": "caca219e",
   "metadata": {},
   "outputs": [
    {
     "name": "stdout",
     "output_type": "stream",
     "text": [
      "True\n",
      "False\n",
      "True\n",
      "False\n",
      "True\n"
     ]
    }
   ],
   "source": [
    "#method 1\n",
    "def is_symmetrical (num):\n",
    "    num1=\"\"\n",
    "    for i in str(num):\n",
    "        num1=i+num1\n",
    "    if num == int(num1):\n",
    "        print (True)\n",
    "    else:\n",
    "        print(False)\n",
    "    \n",
    "is_symmetrical(7227)\n",
    "is_symmetrical(12567)\n",
    "is_symmetrical(44444444)\n",
    "is_symmetrical(9939)\n",
    "is_symmetrical(1112111)"
   ]
  },
  {
   "cell_type": "markdown",
   "id": "fc69e2a8",
   "metadata": {},
   "source": [
    "# Question 3\n",
    "# Create a function that squares every digit of a number.\n",
    "# Examples\n",
    "# square_digits(9119) ➞ 811181\n",
    "# square_digits(2483) ➞ 416649\n",
    "# square_digits(3212) ➞ 9414\n",
    "# Notes\n",
    "# The function receives an integer and must return an integer."
   ]
  },
  {
   "cell_type": "code",
   "execution_count": 31,
   "id": "f1126097",
   "metadata": {},
   "outputs": [
    {
     "name": "stdout",
     "output_type": "stream",
     "text": [
      "811181\n",
      "416649\n",
      "9414\n"
     ]
    }
   ],
   "source": [
    "def square_digits(num):\n",
    "    out=\"\"\n",
    "    for i in str(num):\n",
    "        i=int(i)**2\n",
    "        out+=str(i)\n",
    "    out=int(out)\n",
    "    print(out)\n",
    "\n",
    "square_digits(9119)   \n",
    "square_digits(2483)\n",
    "square_digits(3212)"
   ]
  },
  {
   "cell_type": "markdown",
   "id": "cdea6c81",
   "metadata": {},
   "source": [
    "# Question 4\n",
    "# Create a function that sorts a list and removes all duplicate items from it.\n",
    "# Examples\n",
    "# setify([1, 3, 3, 5, 5]) ➞ [1, 3, 5]\n",
    "# setify([4, 4, 4, 4]) ➞ [4]\n",
    "# setify([5, 7, 8, 9, 10, 15]) ➞ [5, 7, 8, 9, 10, 15]\n",
    "# setify([3, 3, 3, 2, 1]) ➞ [1, 2, 3]'''"
   ]
  },
  {
   "cell_type": "code",
   "execution_count": 40,
   "id": "f68a2b25",
   "metadata": {},
   "outputs": [
    {
     "name": "stdout",
     "output_type": "stream",
     "text": [
      "[1, 3, 5]\n",
      "[4]\n",
      "[5, 7, 8, 9, 10, 15]\n",
      "[1, 2, 3]\n"
     ]
    }
   ],
   "source": [
    "#method 1\n",
    "def setify (n):\n",
    "    d={}\n",
    "    shorted_l = []\n",
    "    for i in n:\n",
    "        d[i]=\"te\"\n",
    "    d=list(d)\n",
    "    while d:\n",
    "        minimum = d[0]\n",
    "        for x in d: \n",
    "            if x < minimum:\n",
    "                minimum = x\n",
    "        shorted_l.append(minimum)\n",
    "        d.remove(minimum)    \n",
    "    print(shorted_l)\n",
    "    \n",
    "setify([1, 3, 3, 5, 5])\n",
    "setify([4, 4, 4, 4])\n",
    "setify([5, 7, 8, 9, 10, 15])\n",
    "setify([3, 3, 3, 2, 1])"
   ]
  },
  {
   "cell_type": "code",
   "execution_count": 45,
   "id": "39e99f72",
   "metadata": {},
   "outputs": [
    {
     "name": "stdout",
     "output_type": "stream",
     "text": [
      "[1, 3, 5]\n",
      "[4]\n",
      "[5, 7, 8, 9, 10, 15]\n",
      "[1, 2, 3]\n"
     ]
    }
   ],
   "source": [
    "#method 2\n",
    "def setify (n):\n",
    "    print(list(set(sorted(n))))\n",
    "setify([1, 3, 3, 5, 5])\n",
    "setify([4, 4, 4, 4])\n",
    "setify([5, 7, 8, 9, 10, 15])\n",
    "setify([3, 3, 3, 2, 1])\n",
    "    \n",
    "    "
   ]
  },
  {
   "cell_type": "markdown",
   "id": "33d8fa2a",
   "metadata": {},
   "source": [
    "# Question 5\n",
    "# Create a function that returns the mean of all digits.\n",
    "# Examples\n",
    "# mean(42) ➞ 3\n",
    "# mean(12345) ➞ 3\n",
    "# mean(666) ➞ 6\n",
    "# Notes\n",
    "#  The mean of all digits is the sum of digits / how many digits there are (e.g. mean of digits in\n",
    "# 512 is (5+1+2)/3(number of digits) = 8/3=2).\n",
    "#  The mean will always be an integer."
   ]
  },
  {
   "cell_type": "code",
   "execution_count": 53,
   "id": "ce5f007a",
   "metadata": {},
   "outputs": [
    {
     "name": "stdout",
     "output_type": "stream",
     "text": [
      "3\n",
      "3\n",
      "6\n"
     ]
    }
   ],
   "source": [
    "#method 1\n",
    "def mean (mean):\n",
    "    add=0\n",
    "    for i in str(mean):\n",
    "        add+=int(i)\n",
    "    mean_o=add/len(str(mean))\n",
    "    print(round(mean_o))\n",
    "    \n",
    "mean(42)\n",
    "mean(12345)\n",
    "mean(666)\n"
   ]
  },
  {
   "cell_type": "code",
   "execution_count": null,
   "id": "76caac6a",
   "metadata": {},
   "outputs": [],
   "source": []
  }
 ],
 "metadata": {
  "kernelspec": {
   "display_name": "Python 3 (ipykernel)",
   "language": "python",
   "name": "python3"
  },
  "language_info": {
   "codemirror_mode": {
    "name": "ipython",
    "version": 3
   },
   "file_extension": ".py",
   "mimetype": "text/x-python",
   "name": "python",
   "nbconvert_exporter": "python",
   "pygments_lexer": "ipython3",
   "version": "3.9.12"
  }
 },
 "nbformat": 4,
 "nbformat_minor": 5
}
