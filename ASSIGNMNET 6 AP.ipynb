{
 "cells": [
  {
   "cell_type": "markdown",
   "id": "c562424d",
   "metadata": {},
   "source": [
    "# Q1.Describe three applications for exception processing.\n",
    "# A1 \n",
    "Exception processing is a technique used in computer programming to handle unexpected situations that arise during the execution of a program. Here are three applications of exception processing:\n",
    "\n",
    "Error handling: When a program encounters an error, such as a runtime error or an input/output error, it can use exception processing to catch the error and handle it gracefully. For example, instead of crashing the program, it can display an error message to the user and prompt them to retry the operation or take another action.\n",
    "\n",
    "Resource management: When a program uses external resources, such as files, databases, or network connections, it can use exception processing to ensure that those resources are properly released when they are no longer needed. For example, if a program opens a file and encounters an error while reading it, it can use exception processing to close the file and free up the resources it was using.\n",
    "\n",
    "Control flow: When a program needs to change its normal execution flow based on certain conditions, it can use exception processing to handle those conditions as exceptions. For example, a program that is searching for a specific record in a database can use exception processing to handle the case where the record is not found, allowing it to continue executing the rest of the program without crashing.\n",
    "\n",
    "# Q2. What happens if you don't do something extra to treat an exception?\n",
    "# A2.\n",
    "If you don't handle an exception in your code, it will typically cause the program to terminate abruptly with an error message. This can be problematic for users and may result in data loss or corruption. It's important to handle exceptions properly to ensure that your program can recover gracefully from unexpected errors.\n",
    "\n",
    "# Q3. What are your options for recovering from an exception in your script?\n",
    "# A3.\n",
    "When an exception occurs in your script, you have several options for recovering from it, including:\n",
    "\n",
    "Logging the error: You can log the error to a file or database for later analysis or debugging.\n",
    "Displaying an error message: You can display an error message to the user, explaining what went wrong and what they should do next.\n",
    "Retrying the operation: In some cases, you can retry the operation that caused the exception, hoping that the problem was temporary and will not recur.\n",
    "Failing gracefully: If the operation cannot be retried or the error cannot be resolved, you can exit gracefully, saving any relevant data and closing any open resources.\n",
    "\n",
    "# Q4. Describe two methods for triggering exceptions in your script.\n",
    "# A4.\n",
    "In Python, you can trigger exceptions in your script using the following methods:\n",
    "\n",
    "Using the raise statement: You can use the raise statement to raise an exception explicitly. For example, you might raise an exception if a required input parameter is missing or if a file cannot be opened.\n",
    "Calling a function that raises an exception: Some built-in functions in Python, as well as functions from external libraries, can raise exceptions when certain conditions are not met. For example, the open() function can raise a FileNotFoundError if the specified file does not exist.\n",
    "\n",
    "# Q5. Identify two methods for specifying actions to be executed at termination time, regardless of whether or not an exception exists.\n",
    "# A5.\n",
    "In Python, you can specify actions to be executed at termination time using the following methods:\n",
    "\n",
    "Using the finally block: You can use a finally block to specify code that will be executed regardless of whether or not an exception is raised. This is useful for cleaning up resources and ensuring that your program exits cleanly.\n",
    "Registering an atexit function: You can use the atexit module to register functions that will be executed when your program exits normally. This is useful for performing tasks such as saving data to a file or closing network connections.\n",
    "\n",
    "\n",
    "\n",
    "\n"
   ]
  },
  {
   "cell_type": "code",
   "execution_count": null,
   "id": "72f1102e",
   "metadata": {},
   "outputs": [],
   "source": []
  },
  {
   "cell_type": "code",
   "execution_count": null,
   "id": "c140e279",
   "metadata": {},
   "outputs": [],
   "source": []
  }
 ],
 "metadata": {
  "kernelspec": {
   "display_name": "Python 3 (ipykernel)",
   "language": "python",
   "name": "python3"
  },
  "language_info": {
   "codemirror_mode": {
    "name": "ipython",
    "version": 3
   },
   "file_extension": ".py",
   "mimetype": "text/x-python",
   "name": "python",
   "nbconvert_exporter": "python",
   "pygments_lexer": "ipython3",
   "version": "3.9.13"
  }
 },
 "nbformat": 4,
 "nbformat_minor": 5
}
