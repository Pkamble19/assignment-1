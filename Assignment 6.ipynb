{
 "cells": [
  {
   "cell_type": "markdown",
   "id": "cb8f5ebd",
   "metadata": {},
   "source": [
    "# 1.What are Escape characters ? and how do you use them ?"
   ]
  },
  {
   "cell_type": "markdown",
   "id": "9d047fbe",
   "metadata": {},
   "source": [
    "1.What are Escape characters ? and how do you use them ?\n",
    "Ans: Escape characters represent characters in string values that would otherwise be difficult or impossible to type into code. we can use the backslash character to escape a single character or symbol\n",
    "example: \\t, \\n\n",
    "    "
   ]
  },
  {
   "cell_type": "markdown",
   "id": "69483aaf",
   "metadata": {},
   "source": [
    "# 2.What do the escape characters n and t stand for ?"
   ]
  },
  {
   "cell_type": "markdown",
   "id": "e957c2d5",
   "metadata": {},
   "source": [
    "Ans: \\n is a newline, \\t is a tab"
   ]
  },
  {
   "cell_type": "markdown",
   "id": "9e214696",
   "metadata": {},
   "source": [
    "# 3.What is the way to include backslash character in a string?"
   ]
  },
  {
   "cell_type": "markdown",
   "id": "9b857843",
   "metadata": {},
   "source": [
    "Ans: The \\\\ escape character will represent the backslash character in a string"
   ]
  },
  {
   "cell_type": "markdown",
   "id": "5158f454",
   "metadata": {},
   "source": [
    "# 4.The string \"Howl's Moving Castle\" is a correct value. Why isn't the single quote character in the word Howl's not escaped a problem ?"
   ]
  },
  {
   "cell_type": "markdown",
   "id": "03ca2dfc",
   "metadata": {},
   "source": [
    "Ans: The string \"Howl's Moving Castle\" escaped the problem because it is wrapped inside double quotes. if its wrapped inside single quotes then we have to use escape character \\' to show single quote in the final output\n",
    "\n",
    "'Howl\\'s Moving Castle' -> 'Howl's Moving Castle'\n"
   ]
  },
  {
   "cell_type": "markdown",
   "id": "1b3ff71c",
   "metadata": {},
   "source": [
    "# 5.How do you write a string of newlines if you don't want to use the n character?"
   ]
  },
  {
   "cell_type": "markdown",
   "id": "1dc4143e",
   "metadata": {},
   "source": [
    "Ans: Multiline string allow you to use newlines in string without the \\n escape character"
   ]
  },
  {
   "cell_type": "code",
   "execution_count": 5,
   "id": "0df5dcf0",
   "metadata": {},
   "outputs": [
    {
     "name": "stdout",
     "output_type": "stream",
     "text": [
      "iNeuron full stack\n",
      "Data Science Course\n"
     ]
    }
   ],
   "source": [
    "# Example:\n",
    "a = '''iNeuron full stack\n",
    "Data Science Course'''\n",
    "print(a)"
   ]
  },
  {
   "cell_type": "markdown",
   "id": "bfeb8f70",
   "metadata": {},
   "source": [
    "# 6.What are the values of the given expressions ?\n",
    "# 'Hello, world!'[1]\n",
    "# 'Hello, world!'[0:5]\n",
    "# 'Hello, world!'[:5]\n",
    "# 'Hello, world!'[3:]\n"
   ]
  },
  {
   "cell_type": "code",
   "execution_count": 11,
   "id": "24a705d7",
   "metadata": {},
   "outputs": [
    {
     "name": "stdout",
     "output_type": "stream",
     "text": [
      "'Hello, world!'[1] -> e\n",
      "'Hello, world!'[0:5]-> Hello\n",
      "'Hello, world!'[:5]-> Hello\n",
      "'Hello, world!'[3:] -> lo, world!\n"
     ]
    }
   ],
   "source": [
    "print(\"'Hello, world!'[1] ->\",'Hello, world!'[1])\n",
    "print(\"'Hello, world!'[0:5]->\",'Hello, world!'[0:5])\n",
    "print(\"'Hello, world!'[:5]->\",'Hello, world!'[:5])\n",
    "print(\"'Hello, world!'[3:] ->\",'Hello, world!'[3:])"
   ]
  },
  {
   "cell_type": "markdown",
   "id": "7f0157f9",
   "metadata": {},
   "source": [
    "# 7.What are the values of the following expressions ?\n",
    "# 'Hello'.upper()\n",
    "# 'Hello'.upper().isupper()\n",
    "# 'Hello'.upper().lower()"
   ]
  },
  {
   "cell_type": "code",
   "execution_count": 12,
   "id": "ea62cd11",
   "metadata": {},
   "outputs": [
    {
     "name": "stdout",
     "output_type": "stream",
     "text": [
      "'Hello'.upper() = HELLO\n",
      "'Hello'.upper().isupper() = True\n",
      "'Hello'.upper().lower() = hello\n"
     ]
    }
   ],
   "source": [
    "print(\"'Hello'.upper() =\",'Hello'.upper())\n",
    "print(\"'Hello'.upper().isupper() =\",'Hello'.upper().isupper())\n",
    "print(\"'Hello'.upper().lower() =\",'Hello'.upper().lower())"
   ]
  },
  {
   "cell_type": "markdown",
   "id": "15cdcd27",
   "metadata": {},
   "source": [
    "# 8.What are the values of the following expressions ?\n",
    "# 'Remember, remember, the fifith of July.'.split()\n",
    "# -'.join('There can only one'.split())"
   ]
  },
  {
   "cell_type": "code",
   "execution_count": 14,
   "id": "7839f1d4",
   "metadata": {},
   "outputs": [
    {
     "name": "stdout",
     "output_type": "stream",
     "text": [
      "'Remember, remember, the fifith of July.'.split() = ['Remember,', 'remember,', 'the', 'fifith', 'of', 'July.']\n",
      "-'.join('There can only one'.split()) = There-can-only-one\n"
     ]
    }
   ],
   "source": [
    "print(\"'Remember, remember, the fifith of July.'.split() =\",'Remember, remember, the fifith of July.'.split() )\n",
    "print(\"-'.join('There can only one'.split()) =\",'-'.join('There can only one'.split()) )"
   ]
  },
  {
   "cell_type": "markdown",
   "id": "764cd24d",
   "metadata": {},
   "source": [
    "# 9.What are the methods for right-justifying, left-justifying and centering a string ?"
   ]
  },
  {
   "cell_type": "markdown",
   "id": "c2a42546",
   "metadata": {},
   "source": [
    "Ans: The rjust(),ljust(),center() string methods, respectively"
   ]
  },
  {
   "cell_type": "markdown",
   "id": "6abdad3f",
   "metadata": {},
   "source": [
    "# 10.What is the best way to remove whitespace characters from the start or end ?"
   ]
  },
  {
   "cell_type": "markdown",
   "id": "abb238ab",
   "metadata": {},
   "source": [
    "Ans: The lstrip() and rstrip() methods remove whitesapce characters from the left and right ends of a string respectively"
   ]
  },
  {
   "cell_type": "code",
   "execution_count": null,
   "id": "964a3840",
   "metadata": {},
   "outputs": [],
   "source": []
  }
 ],
 "metadata": {
  "kernelspec": {
   "display_name": "Python 3 (ipykernel)",
   "language": "python",
   "name": "python3"
  },
  "language_info": {
   "codemirror_mode": {
    "name": "ipython",
    "version": 3
   },
   "file_extension": ".py",
   "mimetype": "text/x-python",
   "name": "python",
   "nbconvert_exporter": "python",
   "pygments_lexer": "ipython3",
   "version": "3.9.12"
  }
 },
 "nbformat": 4,
 "nbformat_minor": 5
}
