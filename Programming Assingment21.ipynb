{
 "cells": [
  {
   "cell_type": "markdown",
   "id": "e41bce51",
   "metadata": {},
   "source": [
    "# Q1 Write a function that takes a list and a number as arguments. Add the number to the end of the list, then remove the first element of the list. The function should then return the updated list."
   ]
  },
  {
   "cell_type": "code",
   "execution_count": 1,
   "id": "e1822dc6",
   "metadata": {},
   "outputs": [
    {
     "name": "stdout",
     "output_type": "stream",
     "text": [
      "[6, 7, 8, 9, 1]\n",
      "[6, 3, 23, 17, 10]\n",
      "[10, 20, 42, 6]\n",
      "No list has been selected\n"
     ]
    }
   ],
   "source": [
    "def next_in_line(a,n):\n",
    "    if len(a)!=0:\n",
    "        a.remove(a[0])\n",
    "        a.append(n)\n",
    "        print (a)\n",
    "    else:\n",
    "        print ('No list has been selected')\n",
    "        \n",
    "\n",
    "next_in_line([5, 6, 7, 8, 9], 1)\n",
    "next_in_line([7, 6, 3, 23, 17], 10)\n",
    "next_in_line([1, 10, 20, 42 ], 6)\n",
    "next_in_line([], 6)"
   ]
  },
  {
   "cell_type": "markdown",
   "id": "3dfc90ba",
   "metadata": {},
   "source": [
    "# Q2 Create the function that takes a list of dictionaries and returns the sum of people&#39;s budgets."
   ]
  },
  {
   "cell_type": "code",
   "execution_count": 2,
   "id": "05bdd74d",
   "metadata": {},
   "outputs": [
    {
     "name": "stdout",
     "output_type": "stream",
     "text": [
      "Total Budget = 65700\n",
      "Total Budget = 62600\n"
     ]
    }
   ],
   "source": [
    "def get_budgets(*args):\n",
    "    l=[]\n",
    "    for i in args:\n",
    "        for f in i:\n",
    "            l.append(f['budget'])\n",
    "        print (f'Total Budget = {sum(l)}')\n",
    "        \n",
    "        \n",
    "get_budgets([\n",
    "{ \"name\": \"John\", \"age\": 21, \"budget\": 23000 },\n",
    "{ \"name\": \"Steve\", \"age\": 32, \"budget\": 40000 },\n",
    "{ \"name\": \"Martin\", \"age\": 16, \"budget\": 2700 }\n",
    "])\n",
    "\n",
    "get_budgets([\n",
    "{ \"name\": \"John\", \"age\": 21, \"budget\": 29000 },\n",
    "{ \"name\": \"Steve\", \"age\": 32, \"budget\": 32000 },\n",
    "{ \"name\": \"Martin\", \"age\": 16, \"budget\": 1600 }\n",
    "])\n",
    "\n"
   ]
  },
  {
   "cell_type": "markdown",
   "id": "0a4b47b0",
   "metadata": {},
   "source": [
    "# Q3 Create a function that takes a string and returns a string with its letters in alphabetical order."
   ]
  },
  {
   "cell_type": "code",
   "execution_count": 11,
   "id": "72444d6b",
   "metadata": {
    "scrolled": true
   },
   "outputs": [
    {
     "name": "stdout",
     "output_type": "stream",
     "text": [
      "ehllo\n",
      "abdeit\n",
      "acehkr\n",
      "eegk\n",
      "aacijprstv\n"
     ]
    }
   ],
   "source": [
    "def alphabet_soup(text):\n",
    "    print(''.join(sorted(text)))\n",
    "    \n",
    "alphabet_soup(\"hello\")\n",
    "alphabet_soup(\"edabit\")\n",
    "alphabet_soup(\"hacker\")\n",
    "alphabet_soup(\"geek\")\n",
    "alphabet_soup(\"javascript\")  "
   ]
  },
  {
   "cell_type": "markdown",
   "id": "55329493",
   "metadata": {},
   "source": [
    "# Q4 Suppose that you invest 10,000 for 10 years at an interest rate of 6% compounded monthly.What will be the value of your investment at the end of the 10 year period?Create a function that accepts the principal p, the term in years t, the interest rate r, and thenumber of compounding periods per year n. The function returns the value at the end of termrounded to the nearest cent.For the example above:compound_interest(10000, 10, 0.06, 12) ➞ 18193.97Note that the interest rate is given as a decimal and n=12 because with monthly compoundingthere are 12 periods per year. Compounding can also be done annually, quarterly, weekly, ordaily."
   ]
  },
  {
   "cell_type": "code",
   "execution_count": 21,
   "id": "f248f9d5",
   "metadata": {},
   "outputs": [
    {
     "name": "stdout",
     "output_type": "stream",
     "text": [
      "105.0\n",
      "3523.1224821377214\n",
      "100752.66431734357\n"
     ]
    }
   ],
   "source": [
    "def compound_interest(p,t,r,n):\n",
    "    A=p*((1+(r/n))**(n/t))\n",
    "    print(A)\n",
    "\n",
    "compound_interest(100, 1, 0.05, 1)\n",
    "compound_interest(3500, 15, 0.1, 4)\n",
    "compound_interest(100000, 20, 0.15, 365)"
   ]
  },
  {
   "cell_type": "markdown",
   "id": "36447f7a",
   "metadata": {},
   "source": [
    "# Q5 Write a function that takes a list of elements and returns only the integers."
   ]
  },
  {
   "cell_type": "code",
   "execution_count": 27,
   "id": "b6636fab",
   "metadata": {},
   "outputs": [
    {
     "name": "stdout",
     "output_type": "stream",
     "text": [
      "[9, 2, 16]\n",
      "[81, 123]\n",
      "[10, 56, 20, 3]\n",
      "[1]\n"
     ]
    }
   ],
   "source": [
    "def return_only_integer(l):\n",
    "    l2=[]\n",
    "    for i in l:\n",
    "        if type(i) == int:\n",
    "            l2.append(i)\n",
    "    print(l2)\n",
    "\n",
    "return_only_integer([9, 2, \"space\", \"car\", \"lion\", 16])\n",
    "return_only_integer([\"hello\", 81, \"basketball\", 123, \"fox\"])\n",
    "return_only_integer([10, \"121\", 56, 20, \"car\", 3, \"lion\"])\n",
    "return_only_integer([\"String\", True, 3.3, 1])"
   ]
  },
  {
   "cell_type": "code",
   "execution_count": null,
   "id": "558c4c73",
   "metadata": {},
   "outputs": [],
   "source": []
  }
 ],
 "metadata": {
  "kernelspec": {
   "display_name": "Python 3 (ipykernel)",
   "language": "python",
   "name": "python3"
  },
  "language_info": {
   "codemirror_mode": {
    "name": "ipython",
    "version": 3
   },
   "file_extension": ".py",
   "mimetype": "text/x-python",
   "name": "python",
   "nbconvert_exporter": "python",
   "pygments_lexer": "ipython3",
   "version": "3.9.13"
  }
 },
 "nbformat": 4,
 "nbformat_minor": 5
}
