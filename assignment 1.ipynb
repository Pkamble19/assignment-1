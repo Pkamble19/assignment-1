{
 "cells": [
  {
   "cell_type": "markdown",
   "id": "4dedb888",
   "metadata": {},
   "source": [
    "# assignment 1"
   ]
  },
  {
   "cell_type": "markdown",
   "id": "022d731a",
   "metadata": {},
   "source": [
    "Q 1. In the below elements which of them are values or an expression? eg:- values can be\n",
    "integer or string and expressions will be mathematical operators."
   ]
  },
  {
   "cell_type": "code",
   "execution_count": null,
   "id": "25ce563a",
   "metadata": {},
   "outputs": [],
   "source": [
    "ans.   *       = expression\n",
    "\n",
    "       'hello' = value\n",
    "\n",
    "       -87.8  = value\n",
    "\n",
    "       -   = expression\n",
    "\n",
    "       /   = expression \n",
    "\n",
    "       +   = expression\n",
    "\n",
    "       6  = value"
   ]
  },
  {
   "cell_type": "markdown",
   "id": "39b74fc1",
   "metadata": {},
   "source": [
    "Q2 What is the difference between string and variable?"
   ]
  },
  {
   "cell_type": "code",
   "execution_count": null,
   "id": "50cdbf76",
   "metadata": {},
   "outputs": [],
   "source": [
    "variable IS an identifier to store a value in a memory location and to manipulate it if needed.\n",
    "STRING IS anything you assign to a variable using quotes (single or double) will be considered as a string. Thus, a string is one of several types of a variable.\n",
    "Ex \"prathamesh\" 'prathamesh'"
   ]
  },
  {
   "cell_type": "markdown",
   "id": "f4c863c6",
   "metadata": {},
   "source": [
    "Q3. Describe three different data types."
   ]
  },
  {
   "cell_type": "code",
   "execution_count": null,
   "id": "0bb3a36a",
   "metadata": {},
   "outputs": [],
   "source": [
    "String = used for Alphanumeric characters ex. hello world, prathamesh, pk123\n",
    "Integer = used for Whole numbers ex. 19 7 1999\n",
    "Float used for number with decimal point ex. 1.19 19.19 ...\n",
    "character used for encoding text nemerically ex 97 (in ASCII, 97 is a lower case 'a')\n",
    "Boolean used for Representing Logical Values ex. TRUE , FALSE"
   ]
  },
  {
   "cell_type": "markdown",
   "id": "2f6350b1",
   "metadata": {},
   "source": [
    "Q4. What is an expression made up of? What do all expressions do? "
   ]
  },
  {
   "cell_type": "code",
   "execution_count": null,
   "id": "37e46123",
   "metadata": {},
   "outputs": [],
   "source": [
    "Expression is made up of values, containers, and mathematical operators (operands) e.g \n",
    "\n",
    "     a = 2 + 3     and expressions are used to evaluate the values or represent the result on the screen.\n",
    "    "
   ]
  },
  {
   "cell_type": "markdown",
   "id": "6488af72",
   "metadata": {},
   "source": [
    "Q5. This assignment statements, like spam = 10. What is the difference between an expression and a statement?"
   ]
  },
  {
   "cell_type": "code",
   "execution_count": null,
   "id": "586c49b8",
   "metadata": {},
   "outputs": [],
   "source": [
    "Expression is made up of values, containers, and mathematical operators (operands)\n",
    "statement is just like a command that a python interpreter executes like print."
   ]
  },
  {
   "cell_type": "markdown",
   "id": "a2d0a74e",
   "metadata": {},
   "source": [
    "6. After running the following code, what does the variable bacon contain?\n",
    "\n",
    "bacon = 22\n",
    "\n",
    "bacon + 1"
   ]
  },
  {
   "cell_type": "code",
   "execution_count": 2,
   "id": "1d0307c1",
   "metadata": {},
   "outputs": [],
   "source": [
    "bacon = 22"
   ]
  },
  {
   "cell_type": "code",
   "execution_count": 3,
   "id": "aa0ef95a",
   "metadata": {},
   "outputs": [
    {
     "data": {
      "text/plain": [
       "23"
      ]
     },
     "execution_count": 3,
     "metadata": {},
     "output_type": "execute_result"
    }
   ],
   "source": [
    "bacon + 1"
   ]
  },
  {
   "cell_type": "code",
   "execution_count": null,
   "id": "f4c70754",
   "metadata": {},
   "outputs": [],
   "source": [
    "it gives 23 as execution code"
   ]
  },
  {
   "cell_type": "markdown",
   "id": "d32330f4",
   "metadata": {},
   "source": [
    "Q7 What should the values of the following two terms be?"
   ]
  },
  {
   "cell_type": "code",
   "execution_count": 4,
   "id": "ccb46426",
   "metadata": {},
   "outputs": [
    {
     "data": {
      "text/plain": [
       "'spamspamspam'"
      ]
     },
     "execution_count": 4,
     "metadata": {},
     "output_type": "execute_result"
    }
   ],
   "source": [
    "'spam' + 'spamspam'"
   ]
  },
  {
   "cell_type": "code",
   "execution_count": 5,
   "id": "19af41f2",
   "metadata": {},
   "outputs": [
    {
     "data": {
      "text/plain": [
       "'spamspamspam'"
      ]
     },
     "execution_count": 5,
     "metadata": {},
     "output_type": "execute_result"
    }
   ],
   "source": [
    "'spam' * 3"
   ]
  },
  {
   "cell_type": "code",
   "execution_count": null,
   "id": "5034fba6",
   "metadata": {},
   "outputs": [],
   "source": [
    "it will be the same"
   ]
  },
  {
   "cell_type": "markdown",
   "id": "125bccf9",
   "metadata": {},
   "source": [
    "Q8. Why is eggs a valid variable name while 100 is invalid?"
   ]
  },
  {
   "cell_type": "code",
   "execution_count": null,
   "id": "c0b773e6",
   "metadata": {},
   "outputs": [],
   "source": [
    "because we can't start giving variable an integer name.we should begin with, a string-like alphabet name then integer. e100 or eggs100 is valid"
   ]
  },
  {
   "cell_type": "markdown",
   "id": "3d5d07f4",
   "metadata": {},
   "source": [
    "Q9 9. What three functions can be used to get the integer, floating-point number, or string version of a value?"
   ]
  },
  {
   "cell_type": "code",
   "execution_count": null,
   "id": "3ec5127d",
   "metadata": {},
   "outputs": [],
   "source": [
    "int() float() str() "
   ]
  },
  {
   "cell_type": "markdown",
   "id": "3e65ec50",
   "metadata": {},
   "source": [
    "Q10. Why does this expression cause an error? How can you fix it?\n",
    "\n",
    "'I have eaten' + 99 + 'burritos' "
   ]
  },
  {
   "cell_type": "code",
   "execution_count": null,
   "id": "e6e7593a",
   "metadata": {},
   "outputs": [],
   "source": [
    " because 99 is an integer it cannot be concatenated with strings, if we have to concatenate it we need to do typecasting.\n",
    "    int(99)"
   ]
  }
 ],
 "metadata": {
  "kernelspec": {
   "display_name": "Python 3 (ipykernel)",
   "language": "python",
   "name": "python3"
  },
  "language_info": {
   "codemirror_mode": {
    "name": "ipython",
    "version": 3
   },
   "file_extension": ".py",
   "mimetype": "text/x-python",
   "name": "python",
   "nbconvert_exporter": "python",
   "pygments_lexer": "ipython3",
   "version": "3.9.12"
  }
 },
 "nbformat": 4,
 "nbformat_minor": 5
}
