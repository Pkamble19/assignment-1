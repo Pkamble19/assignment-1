{
 "cells": [
  {
   "cell_type": "markdown",
   "id": "721df59c",
   "metadata": {},
   "source": [
    "# 1. What is the concept of an abstract superclass?\n",
    "\n"
   ]
  },
  {
   "cell_type": "markdown",
   "id": "d91f35ae",
   "metadata": {},
   "source": [
    "An abstract superclass is a class that is intended to be inherited from but not instantiated directly. It defines common attributes and methods that its subclasses should implement, but it does not provide a complete implementation of those methods. Instead, it leaves the implementation up to its subclasses. Abstract superclasses are often used to define interfaces or to provide a common base for a group of related classes."
   ]
  },
  {
   "cell_type": "markdown",
   "id": "6db15729",
   "metadata": {},
   "source": [
    "# 2. What happens when a class statement's top level contains a basic assignment statement?"
   ]
  },
  {
   "cell_type": "markdown",
   "id": "282b1cd9",
   "metadata": {},
   "source": [
    "When a class statement's top level contains a basic assignment statement, a new class variable is created with the assigned value. This variable is shared by all instances of the class and can be accessed and modified through the class or any of its instances. However, this variable is not an instance variable and is not related to any particular instance of the class."
   ]
  },
  {
   "cell_type": "markdown",
   "id": "635bec13",
   "metadata": {},
   "source": [
    "# 3. Why does a class need to manually call a superclass's __init__ method? "
   ]
  },
  {
   "cell_type": "markdown",
   "id": "5e9de7fb",
   "metadata": {},
   "source": [
    "A class needs to manually call a superclass's init method to ensure that the superclass's initialization code is executed. When a subclass overrides the init method of its superclass, it can modify the initialization process, but it still needs to call the superclass's init method to ensure that any necessary setup is performed. This is typically done using the super() function, which returns a temporary object of the superclass and allows access to its methods."
   ]
  },
  {
   "cell_type": "markdown",
   "id": "d0398889",
   "metadata": {},
   "source": [
    "# 4. How can you augment, instead of completely replacing, an inherited method?"
   ]
  },
  {
   "cell_type": "markdown",
   "id": "a2e87f32",
   "metadata": {},
   "source": [
    "To augment an inherited method, a subclass can call the superclass's method using the super() function and then modify the result as needed. For example, if a superclass has a method that adds two numbers, a subclass can call the method using super() and then add an additional number to the result. This allows the subclass to reuse the functionality of the superclass method while also extending it."
   ]
  },
  {
   "cell_type": "markdown",
   "id": "7d421137",
   "metadata": {},
   "source": [
    "# 5. How is the local scope of a class different from that of a function?"
   ]
  },
  {
   "cell_type": "markdown",
   "id": "dad2893b",
   "metadata": {},
   "source": [
    "The local scope of a class is different from that of a function in several ways. First, a class has its own namespace, which is distinct from the global namespace and the namespace of any enclosing functions. Second, the names defined in a class are class variables, not local variables, and are shared by all instances of the class. Finally, class methods and static methods have their own special scoping rules, which can affect how names are resolved within the class."
   ]
  }
 ],
 "metadata": {
  "kernelspec": {
   "display_name": "Python 3 (ipykernel)",
   "language": "python",
   "name": "python3"
  },
  "language_info": {
   "codemirror_mode": {
    "name": "ipython",
    "version": 3
   },
   "file_extension": ".py",
   "mimetype": "text/x-python",
   "name": "python",
   "nbconvert_exporter": "python",
   "pygments_lexer": "ipython3",
   "version": "3.9.13"
  }
 },
 "nbformat": 4,
 "nbformat_minor": 5
}
