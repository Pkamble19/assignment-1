{
 "cells": [
  {
   "cell_type": "markdown",
   "id": "ad143160",
   "metadata": {},
   "source": [
    "# Programming Assingment 1"
   ]
  },
  {
   "cell_type": "markdown",
   "id": "d01dcc97",
   "metadata": {},
   "source": [
    "# Q.1 Write a Python program to print &quot;Hello Python&quot;?"
   ]
  },
  {
   "cell_type": "code",
   "execution_count": 1,
   "id": "c1f40416",
   "metadata": {},
   "outputs": [
    {
     "name": "stdout",
     "output_type": "stream",
     "text": [
      "Hello Python\n"
     ]
    }
   ],
   "source": [
    "print(\"Hello Python\")"
   ]
  },
  {
   "cell_type": "markdown",
   "id": "1be8eb59",
   "metadata": {},
   "source": [
    "# Q.2 Write a Python program to do arithmetical operations addition and division.?"
   ]
  },
  {
   "cell_type": "code",
   "execution_count": 2,
   "id": "a0c6282e",
   "metadata": {
    "scrolled": true
   },
   "outputs": [
    {
     "name": "stdout",
     "output_type": "stream",
     "text": [
      "First value19\n",
      "Second Value7\n",
      "Answer of addition is =  26\n",
      "Answer of division is =  2.7142857142857144\n"
     ]
    }
   ],
   "source": [
    "A=int(input(\"First value\"))\n",
    "B=int(input(\"Second Value\"))\n",
    "#addition\n",
    "addition = A+B\n",
    "print(\"Answer of addition is = \" ,addition)\n",
    "#division\n",
    "try:\n",
    "    division=A/B\n",
    "    print(\"Answer of division is = \" ,division)\n",
    "except ZeroDivisionError :\n",
    "    print(\"Second Value Must Be Non Zero for division\")"
   ]
  },
  {
   "cell_type": "markdown",
   "id": "34f68c5a",
   "metadata": {},
   "source": [
    "# Q.3 Write a Python program to find the area of a triangle?"
   ]
  },
  {
   "cell_type": "code",
   "execution_count": 3,
   "id": "8948a523",
   "metadata": {},
   "outputs": [
    {
     "name": "stdout",
     "output_type": "stream",
     "text": [
      "Input the base : 19\n",
      "Input the height : 7\n",
      "66.5\n"
     ]
    }
   ],
   "source": [
    "try:\n",
    "    \n",
    "    b = int(input(\"Input the base : \"))\n",
    "    h = int(input(\"Input the height : \"))\n",
    "except Exception as e:\n",
    "    print(e)\n",
    "try:\n",
    "    area = b*h/2\n",
    "    print (area)\n",
    "except Exception as e:\n",
    "    print(e)\n"
   ]
  },
  {
   "cell_type": "markdown",
   "id": "aff842aa",
   "metadata": {},
   "source": [
    "# Q.4 Write a Python program to swap two variables?"
   ]
  },
  {
   "cell_type": "code",
   "execution_count": 4,
   "id": "73900f91",
   "metadata": {},
   "outputs": [
    {
     "name": "stdout",
     "output_type": "stream",
     "text": [
      "x = 7 y =  19\n"
     ]
    }
   ],
   "source": [
    "x=19\n",
    "y=7\n",
    "\n",
    "x,y = y,x\n",
    "print(\"x =\" , x ,\"y = \" , y)"
   ]
  },
  {
   "cell_type": "markdown",
   "id": "a668c3b1",
   "metadata": {},
   "source": [
    "# Q.5 Write a Python program to generate a random number?"
   ]
  },
  {
   "cell_type": "code",
   "execution_count": 5,
   "id": "5eeca21e",
   "metadata": {},
   "outputs": [
    {
     "name": "stdout",
     "output_type": "stream",
     "text": [
      "24\n"
     ]
    }
   ],
   "source": [
    "import random\n",
    "x=random.randint(1,100)\n",
    "print (x)"
   ]
  },
  {
   "cell_type": "code",
   "execution_count": null,
   "id": "c269ca04",
   "metadata": {},
   "outputs": [],
   "source": []
  }
 ],
 "metadata": {
  "kernelspec": {
   "display_name": "Python 3 (ipykernel)",
   "language": "python",
   "name": "python3"
  },
  "language_info": {
   "codemirror_mode": {
    "name": "ipython",
    "version": 3
   },
   "file_extension": ".py",
   "mimetype": "text/x-python",
   "name": "python",
   "nbconvert_exporter": "python",
   "pygments_lexer": "ipython3",
   "version": "3.9.12"
  }
 },
 "nbformat": 4,
 "nbformat_minor": 5
}
