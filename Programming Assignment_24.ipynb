{
 "cells": [
  {
   "cell_type": "markdown",
   "id": "e65f735a",
   "metadata": {},
   "source": [
    "# Question1\n",
    "# Create a function that takes an integer and returns a list from 1 to the given number, where:\n",
    "# 1. If the number can be divided evenly by 4, amplify it by 10 (i.e. return 10 times the number).\n",
    "# 2. If the number cannot be divided evenly by 4, simply return the number.\n",
    "# Examples\n",
    "# amplify(4) ➞ [1, 2, 3, 40]\n",
    "# amplify(3) ➞ [1, 2, 3]\n",
    "# amplify(25) ➞ [1, 2, 3, 40, 5, 6, 7, 80, 9, 10, 11, 120, 13, 14, 15, 160,17, 18, 19, 200, 21, 22, 23, 240, 25]\n",
    "# Notes\n",
    "#  The given integer will always be equal to or greater than 1.\n",
    "#  Include the number (see example above).\n",
    "#  To perform this problem with its intended purpose, try doing it with list omprehensions. If that&#39;s too difficult, just solve the challenge any way you can."
   ]
  },
  {
   "cell_type": "code",
   "execution_count": 9,
   "id": "3ebc8099",
   "metadata": {},
   "outputs": [
    {
     "name": "stdout",
     "output_type": "stream",
     "text": [
      "amplify4 ➞ [1, 2, 3, 40]\n",
      "amplify3 ➞ [1, 2, 3]\n",
      "amplify25 ➞ [1, 2, 3, 40, 5, 6, 7, 80, 9, 10, 11, 120, 13, 14, 15, 160, 17, 18, 19, 200, 21, 22, 23, 240, 25]\n"
     ]
    }
   ],
   "source": [
    "def amplify (num):\n",
    "    output_num=[]\n",
    "    for int_n in range (1,num+1):\n",
    "        if (int_n%4)==0:\n",
    "            output_num.append(int_n*10)\n",
    "        else:\n",
    "            output_num.append(int_n)\n",
    "    \n",
    "    print (f'amplify{num} ➞ {output_num}')\n",
    "    \n",
    "amplify(4)\n",
    "amplify(3)\n",
    "amplify(25)\n",
    "\n",
    "\n",
    "            "
   ]
  },
  {
   "cell_type": "markdown",
   "id": "cd435b89",
   "metadata": {},
   "source": [
    "# Question2\n",
    "# Create a function that takes a list of numbers and return the number that&#39;s unique.\n",
    "# Examples\n",
    "# unique([3, 3, 3, 7, 3, 3]) ➞ 7\n",
    "# unique([0, 0, 0.77, 0, 0]) ➞ 0.77\n",
    "# unique([0, 1, 1, 1, 1, 1, 1, 1]) ➞ 0\n",
    "# Notes\n",
    "# Test cases will always have exactly one unique number while all others are the same."
   ]
  },
  {
   "cell_type": "code",
   "execution_count": 53,
   "id": "8a822ab2",
   "metadata": {},
   "outputs": [
    {
     "name": "stdout",
     "output_type": "stream",
     "text": [
      " unique([3, 3, 3, 7, 3, 3]) ➞ 7\n",
      " unique([0, 0, 0.77, 0, 0]) ➞ 0.77\n",
      " unique([0, 1, 1, 1, 1, 1, 1, 1]) ➞ 0\n"
     ]
    }
   ],
   "source": [
    "#method 1\n",
    "def unique (list_n):\n",
    "    output_l=min(set(list_n),key = list_n.count)\n",
    "    print(f' unique({list_n}) ➞ {round(output_l,2)}')\n",
    "    \n",
    "unique([3, 3, 3, 7, 3, 3])\n",
    "unique([0, 0, 0.77, 0, 0])\n",
    "unique([0, 1, 1, 1, 1, 1, 1, 1])\n"
   ]
  },
  {
   "cell_type": "code",
   "execution_count": 58,
   "id": "74f2fcac",
   "metadata": {},
   "outputs": [
    {
     "name": "stdout",
     "output_type": "stream",
     "text": [
      " unique([3, 3, 3, 7, 3, 3]) ➞ 7\n",
      " unique([0, 0, 0.77, 0, 0]) ➞ 0.77\n",
      " unique([0, 1, 1, 1, 1, 1, 1, 1]) ➞ 0\n"
     ]
    }
   ],
   "source": [
    "#method 2\n",
    "def unique (list_n):\n",
    "    for uni in set(list_n):\n",
    "        if list_n.count(uni)==1:\n",
    "            out=uni\n",
    "    print(f' unique({list_n}) ➞ {out}')\n",
    "\n",
    "unique([3, 3, 3, 7, 3, 3])\n",
    "unique([0, 0, 0.77, 0, 0])\n",
    "unique([0, 1, 1, 1, 1, 1, 1, 1])\n",
    "\n",
    "        \n",
    "            \n"
   ]
  },
  {
   "cell_type": "markdown",
   "id": "dcadedf0",
   "metadata": {},
   "source": [
    "# Question3\n",
    "# Your task is to create a Circle constructor that creates a circle with a radius provided by an argument. The circles constructed must have two getters getArea() (PIr^2) and getPerimeter() (2PI*r) which give both respective areas and perimeter (circumference).\n",
    "\n",
    "# For help with this class, I have provided you with a Rectangle constructor which you can use as a base example.\n",
    "# Examples\n",
    "# circy = Circle(11)\n",
    "# circy.getArea()\n",
    "# Should return 380.132711084365\n",
    "# circy = Circle(4.44)\n",
    "# circy.getPerimeter()\n",
    "# Should return 27.897342763877365\n",
    "# Notes\n",
    "# Round results up to the nearest integer."
   ]
  },
  {
   "cell_type": "code",
   "execution_count": 66,
   "id": "d5b0c511",
   "metadata": {},
   "outputs": [
    {
     "name": "stdout",
     "output_type": "stream",
     "text": [
      "Area ➞ 380.13239\n",
      "Perimeter ➞ 27.897319200000002\n"
     ]
    }
   ],
   "source": [
    "class Circle :\n",
    "    def __init__ (self , radius):\n",
    "        self.radius=radius\n",
    "    def getArea(self):\n",
    "        print(f'Area ➞ {round(3.14159*self.radius*self.radius,15)}')\n",
    "    def getPerimeter(self):\n",
    "        print(f'Perimeter ➞ {round(3.14159*2*self.radius , 15)}')\n",
    "\n",
    "\n",
    "circy = Circle(11)\n",
    "circy.getArea()\n",
    "        \n",
    "circy = Circle(4.44)\n",
    "circy.getPerimeter()\n"
   ]
  },
  {
   "cell_type": "markdown",
   "id": "41824e5f",
   "metadata": {},
   "source": [
    "# Question4\n",
    "# Create a function that takes a list of strings and return a list, sorted from shortest to longest.\n",
    "# Examples\n",
    "# sort_by_length([&quot;Google&quot;, &quot;Apple&quot;, &quot;Microsoft&quot;])\n",
    "# ➞ [&quot;Apple&quot;, &quot;Google&quot;, &quot;Microsoft&quot;]\n",
    "# sort_by_length([&quot;Leonardo&quot;, &quot;Michelangelo&quot;, &quot;Raphael&quot;, &quot;Donatello&quot;])\n",
    "# ➞ [&quot;Raphael&quot;, &quot;Leonardo&quot;, &quot;Donatello&quot;, &quot;Michelangelo&quot;]\n",
    "# sort_by_length([&quot;Turing&quot;, &quot;Einstein&quot;, &quot;Jung&quot;])\n",
    "# ➞ [&quot;Jung&quot;, &quot;Turing&quot;, &quot;Einstein&quot;]\n",
    "# Notes\n",
    "# All test cases contain lists with strings of different lengths, so you won&#39;t have to deal with multiple strings of the same length."
   ]
  },
  {
   "cell_type": "code",
   "execution_count": 69,
   "id": "93d1992a",
   "metadata": {},
   "outputs": [
    {
     "name": "stdout",
     "output_type": "stream",
     "text": [
      "['Apple', 'Google', 'Microsoft']\n",
      "['Raphael', 'Leonardo', 'Donatello', 'Michelangelo']\n",
      "['Jung', 'Turing', 'Einstein']\n"
     ]
    }
   ],
   "source": [
    "def sort_by_length(list_s):\n",
    "    list_s=(sorted(list_s,key=len))\n",
    "    print(list_s)\n",
    "sort_by_length([\"Google\", \"Apple\", \"Microsoft\"])\n",
    "sort_by_length([\"Leonardo\", \"Michelangelo\", \"Raphael\", \"Donatello\"])\n",
    "sort_by_length([\"Turing\", \"Einstein\", \"Jung\"])"
   ]
  },
  {
   "cell_type": "code",
   "execution_count": 101,
   "id": "8664f5ce",
   "metadata": {},
   "outputs": [
    {
     "name": "stdout",
     "output_type": "stream",
     "text": [
      "['Apple', 'Google', 'Microsoft']\n",
      "['Raphael', 'Leonardo', 'Donatello', 'Michelangelo']\n",
      "['Jung', 'Turing', 'Einstein']\n"
     ]
    }
   ],
   "source": [
    "def sort_by_length(list_s):\n",
    "    d={}\n",
    "    d1={}\n",
    "    l2=[]\n",
    "    for i in list_s:\n",
    "        d[len(i)]=i\n",
    "        d1[len(i)]=i\n",
    "    d1=list(d1)\n",
    "    for i in range(len(d1)):\n",
    "        for j in range(i + 1, len(d1)):\n",
    "\n",
    "            if d1[i] > d1[j]:\n",
    "                d1[i], d1[j] = d1[j], d1[i] \n",
    "    for i in d1:\n",
    "        l2.append(d[i])\n",
    "\n",
    "    print(l2)\n",
    "    \n",
    "sort_by_length([\"Google\", \"Apple\", \"Microsoft\"])\n",
    "sort_by_length([\"Leonardo\", \"Michelangelo\", \"Raphael\", \"Donatello\"])\n",
    "sort_by_length([\"Turing\", \"Einstein\", \"Jung\"])\n"
   ]
  },
  {
   "cell_type": "markdown",
   "id": "c966e194",
   "metadata": {},
   "source": [
    "# Question5\n",
    "# Create a function that validates whether three given integers form a Pythagorean triplet. The sum of the squares of the two smallest integers must equal the square of the largest number to be validated.\n",
    "\n",
    "# Examples\n",
    "# is_triplet(3, 4, 5) ➞ True\n",
    "# 3² + 4² = 25\n",
    "# 5² = 25\n",
    "# is_triplet(13, 5, 12) ➞ True\n",
    "# 5² + 12² = 169\n",
    "# 13² = 169\n",
    "# is_triplet(1, 2, 3) ➞ False\n",
    "# 1² + 2² = 5\n",
    "# 3² = 9\n",
    "# Notes\n",
    "# Numbers may not be given in a sorted order."
   ]
  },
  {
   "cell_type": "code",
   "execution_count": 125,
   "id": "8cf81886",
   "metadata": {},
   "outputs": [
    {
     "name": "stdout",
     "output_type": "stream",
     "text": [
      " is_triplet(3, 4, 5) ➞ True\n",
      " is_triplet(13, 5, 12) ➞ True\n",
      " is_triplet(1, 2, 3) ➞ False\n"
     ]
    }
   ],
   "source": [
    "def is_triplet (a,b,c):\n",
    "    if ((a*a)+(b*b))== (c*c) or ((a*a)+(c*c))== (b*b) or ((c*c)+(b*b))== (a*a):\n",
    "        print(f' is_triplet{a,b,c} ➞ {True}')\n",
    "    else:\n",
    "        print (f' is_triplet{a,b,c} ➞ {False}')\n",
    "\n",
    "is_triplet(3, 4, 5) \n",
    "is_triplet(13, 5, 12) \n",
    "is_triplet(1, 2, 3) "
   ]
  },
  {
   "cell_type": "code",
   "execution_count": null,
   "id": "e3f793f6",
   "metadata": {},
   "outputs": [],
   "source": []
  },
  {
   "cell_type": "code",
   "execution_count": null,
   "id": "c0f6a687",
   "metadata": {},
   "outputs": [],
   "source": []
  },
  {
   "cell_type": "code",
   "execution_count": null,
   "id": "d3b2c48d",
   "metadata": {},
   "outputs": [],
   "source": []
  }
 ],
 "metadata": {
  "kernelspec": {
   "display_name": "Python 3 (ipykernel)",
   "language": "python",
   "name": "python3"
  },
  "language_info": {
   "codemirror_mode": {
    "name": "ipython",
    "version": 3
   },
   "file_extension": ".py",
   "mimetype": "text/x-python",
   "name": "python",
   "nbconvert_exporter": "python",
   "pygments_lexer": "ipython3",
   "version": "3.9.12"
  }
 },
 "nbformat": 4,
 "nbformat_minor": 5
}
