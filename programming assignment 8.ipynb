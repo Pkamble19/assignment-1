{
 "cells": [
  {
   "cell_type": "markdown",
   "id": "38016873",
   "metadata": {},
   "source": [
    "# Q1. Write a Python Program to Add Two Matrices?"
   ]
  },
  {
   "cell_type": "code",
   "execution_count": 1,
   "id": "bf28a6d7",
   "metadata": {},
   "outputs": [
    {
     "name": "stdout",
     "output_type": "stream",
     "text": [
      "[10, 10, 10]\n",
      "[10, 10, 10]\n",
      "[10, 10, 10]\n"
     ]
    }
   ],
   "source": [
    "# define matrices\n",
    "matrix1 = [[1, 2, 3], [4, 5, 6], [7, 8, 9]]\n",
    "matrix2 = [[9, 8, 7], [6, 5, 4], [3, 2, 1]]\n",
    "\n",
    "# create a result matrix\n",
    "result_matrix = [[0, 0, 0], [0, 0, 0], [0, 0, 0]]\n",
    "\n",
    "# iterate through the matrices and add their elements\n",
    "for i in range(len(matrix1)):\n",
    "    for j in range(len(matrix1[0])):\n",
    "        result_matrix[i][j] = matrix1[i][j] + matrix2[i][j]\n",
    "\n",
    "# print the result matrix\n",
    "for row in result_matrix:\n",
    "    print(row)\n"
   ]
  },
  {
   "cell_type": "markdown",
   "id": "0e2c3d5a",
   "metadata": {},
   "source": [
    "# Q2. Write a Python Program to Multiply Two Matrices?"
   ]
  },
  {
   "cell_type": "code",
   "execution_count": 3,
   "id": "37b320ba",
   "metadata": {},
   "outputs": [
    {
     "name": "stdout",
     "output_type": "stream",
     "text": [
      "[19, 22]\n",
      "[43, 50]\n"
     ]
    }
   ],
   "source": [
    "# define matrices\n",
    "matrix1 = [[1, 2], [3, 4]]\n",
    "matrix2 = [[5, 6], [7, 8]]\n",
    "\n",
    "# create a result matrix\n",
    "result_matrix = [[0, 0], [0, 0]]\n",
    "\n",
    "# iterate through the matrices and multiply their elements\n",
    "for i in range(len(matrix1)):\n",
    "    for j in range(len(matrix2[0])):\n",
    "        for k in range(len(matrix2)):\n",
    "            result_matrix[i][j] += matrix1[i][k] * matrix2[k][j]\n",
    "\n",
    "# print the result matrix\n",
    "for row in result_matrix:\n",
    "    print(row)\n"
   ]
  },
  {
   "cell_type": "markdown",
   "id": "befc413a",
   "metadata": {},
   "source": [
    "# Q3. Write a Python Program to Transpose a Matrix?"
   ]
  },
  {
   "cell_type": "code",
   "execution_count": 4,
   "id": "6c1d29db",
   "metadata": {},
   "outputs": [
    {
     "name": "stdout",
     "output_type": "stream",
     "text": [
      "[1, 3, 5]\n",
      "[2, 4, 6]\n"
     ]
    }
   ],
   "source": [
    "# define a matrix\n",
    "matrix = [[1, 2], [3, 4], [5, 6]]\n",
    "\n",
    "# create a result matrix with reversed dimensions\n",
    "result_matrix = [[0, 0, 0], [0, 0, 0]]\n",
    "\n",
    "# iterate through the matrix and transpose its elements\n",
    "for i in range(len(matrix)):\n",
    "    for j in range(len(matrix[0])):\n",
    "        result_matrix[j][i] = matrix[i][j]\n",
    "\n",
    "# print the result matrix\n",
    "for row in result_matrix:\n",
    "    print(row)\n"
   ]
  },
  {
   "cell_type": "markdown",
   "id": "51dc4e2b",
   "metadata": {},
   "source": [
    "# Q4. Write a Python Program to Sort Words in Alphabetic Order?"
   ]
  },
  {
   "cell_type": "code",
   "execution_count": 8,
   "id": "0a1eecfb",
   "metadata": {},
   "outputs": [
    {
     "name": "stdout",
     "output_type": "stream",
     "text": [
      "a\n",
      "is\n",
      "language\n",
      "popular\n",
      "programming\n",
      "python\n"
     ]
    }
   ],
   "source": [
    "# define a string\n",
    "string = \"python is a popular programming language\"\n",
    "\n",
    "# split the string into words\n",
    "words = string.split()\n",
    "\n",
    "# sort the words\n",
    "words.sort()\n",
    "\n",
    "# print the sorted words\n",
    "for word in words:\n",
    "    print(word)\n"
   ]
  },
  {
   "cell_type": "markdown",
   "id": "b0536983",
   "metadata": {},
   "source": [
    "# Q5. Write a Python Program to Remove Punctuation From a String?"
   ]
  },
  {
   "cell_type": "code",
   "execution_count": 10,
   "id": "d4040571",
   "metadata": {},
   "outputs": [
    {
     "name": "stdout",
     "output_type": "stream",
     "text": [
      "Hello world How are you doing today\n"
     ]
    }
   ],
   "source": [
    "import string\n",
    "\n",
    "# define the input string\n",
    "input_string = \"Hello, world! How are you doing today?\"\n",
    "\n",
    "# define the punctuation to remove\n",
    "punctuations = string.punctuation\n",
    "\n",
    "# remove the punctuation\n",
    "string_without_punctuation = input_string.translate(str.maketrans(\"\", \"\", punctuations))\n",
    "\n",
    "# print the string without punctuation\n",
    "print(string_without_punctuation)\n"
   ]
  },
  {
   "cell_type": "code",
   "execution_count": null,
   "id": "800578d6",
   "metadata": {},
   "outputs": [],
   "source": []
  }
 ],
 "metadata": {
  "kernelspec": {
   "display_name": "Python 3 (ipykernel)",
   "language": "python",
   "name": "python3"
  },
  "language_info": {
   "codemirror_mode": {
    "name": "ipython",
    "version": 3
   },
   "file_extension": ".py",
   "mimetype": "text/x-python",
   "name": "python",
   "nbconvert_exporter": "python",
   "pygments_lexer": "ipython3",
   "version": "3.9.13"
  }
 },
 "nbformat": 4,
 "nbformat_minor": 5
}
