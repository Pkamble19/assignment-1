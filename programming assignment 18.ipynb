{
 "cells": [
  {
   "cell_type": "markdown",
   "id": "fd73151b",
   "metadata": {},
   "source": [
    "Question 1\n",
    "Create a function that takes a list of non-negative integers and strings and return a new list without the strings.\n",
    "Examples\n",
    "filter_list([1, 2, \"a\", \"b\"]) ➞ [1, 2]\n",
    "\n",
    "filter_list([1, \"a\", \"b\", 0, 15]) ➞ [1, 0, 15]\n",
    "\n",
    "filter_list([1, 2, \"aasf\", \"1\", \"123\", 123]) ➞ [1, 2, 123]\n",
    "\n",
    "Question 2\n",
    "The \"Reverser\" takes a string as input and returns that string in reverse order, with the opposite case.\n",
    "Examples\n",
    "reverse(\"Hello World\") ➞ \"DLROw OLLEh\"\n",
    "\n",
    "reverse(\"ReVeRsE\") ➞ \"eSrEvEr\"\n",
    "\n",
    "reverse(\"Radar\") ➞ \"RADAr\"\n",
    "\n",
    "Question 3\n",
    "You can assign variables from lists like this:\n",
    "lst = [1, 2, 3, 4, 5, 6]\n",
    "first = lst[0]\n",
    "middle = lst[1:-1]\n",
    "last = lst[-1]\n",
    "\n",
    "print(first) ➞ outputs 1\n",
    "print(middle) ➞ outputs [2, 3, 4, 5]\n",
    "print(last) ➞ outputs 6\n",
    "With Python 3, you can assign variables from lists in a much more succinct way. Create variables first, middle and last from the given list using destructuring assignment (check the Resources tab for some examples), where:\n",
    "first  ➞ 1\n",
    "\n",
    "middle ➞ [2, 3, 4, 5]\n",
    "\n",
    "last ➞ 6\n",
    "Your task is to unpack the list writeyourcodehere into three variables, being first, middle, and last, with middle being everything in between the first and last element. Then print all three variables.\n",
    "\n",
    "Question 4\n",
    "Write a function that calculates the factorial of a number recursively.\n",
    "Examples\n",
    "factorial(5) ➞ 120\n",
    "\n",
    "factorial(3) ➞ 6\n",
    "\n",
    "factorial(1) ➞ 1\n",
    "\n",
    "factorial(0) ➞ 1\n",
    "\n",
    "Question 5\n",
    "Write a function that moves all elements of one type to the end of the list.\n",
    "Examples\n",
    "move_to_end([1, 3, 2, 4, 4, 1], 1) ➞ [3, 2, 4, 4, 1, 1]\n",
    " Move all the 1s to the end of the array.\n",
    "\n",
    "move_to_end([7, 8, 9, 1, 2, 3, 4], 9) ➞ [7, 8, 1, 2, 3, 4, 9]\n",
    "\n",
    "move_to_end([\"a\", \"a\", \"a\", \"b\"], \"a\") ➞ [\"b\", \"a\", \"a\", \"a\"]\n",
    "\n",
    "\n"
   ]
  },
  {
   "cell_type": "code",
   "execution_count": 36,
   "id": "8fda31f2",
   "metadata": {},
   "outputs": [
    {
     "name": "stdout",
     "output_type": "stream",
     "text": [
      "[1, 2]\n",
      "[1, 0, 15]\n",
      "[1, 2, 123]\n"
     ]
    }
   ],
   "source": [
    "#Question 1\n",
    "\n",
    "def filter_list(lst):\n",
    "    return [x for x in lst if isinstance(x, int)]\n",
    "\n",
    "# Example usage\n",
    "print(filter_list([1, 2, \"a\", \"b\"])) # Output: [1, 2]\n",
    "print(filter_list([1, \"a\", \"b\", 0, 15])) # Output: [1, 0, 15]\n",
    "print(filter_list([1, 2, \"aasf\", \"1\", \"123\", 123])) # Output: [1, 2, 123]"
   ]
  },
  {
   "cell_type": "code",
   "execution_count": 38,
   "id": "0daf4879",
   "metadata": {},
   "outputs": [
    {
     "name": "stdout",
     "output_type": "stream",
     "text": [
      "DLROw OLLEh\n",
      "eSrEvEr\n",
      "RADAr\n"
     ]
    }
   ],
   "source": [
    "#Question 2\n",
    "def reverse(txt):\n",
    "    return txt[::-1].swapcase()\n",
    "\n",
    "# Example usage\n",
    "print(reverse(\"Hello World\")) # Output: DLROw OLLEh\n",
    "print(reverse(\"ReVeRsE\")) # Output: eSrEvEr\n",
    "print(reverse(\"Radar\")) # Output: RADAr"
   ]
  },
  {
   "cell_type": "code",
   "execution_count": 39,
   "id": "718ee633",
   "metadata": {},
   "outputs": [
    {
     "name": "stdout",
     "output_type": "stream",
     "text": [
      "1\n",
      "[2, 3, 4, 5]\n",
      "6\n"
     ]
    }
   ],
   "source": [
    "#Question 3\n",
    "\n",
    "lst = [1, 2, 3, 4, 5, 6]\n",
    "first, *middle, last = lst\n",
    "\n",
    "# Example usage\n",
    "print(first) # Output: 1\n",
    "print(middle) # Output: [2, 3, 4, 5]\n",
    "print(last) # Output: 6"
   ]
  },
  {
   "cell_type": "code",
   "execution_count": 40,
   "id": "725d9c61",
   "metadata": {},
   "outputs": [
    {
     "name": "stdout",
     "output_type": "stream",
     "text": [
      "120\n",
      "6\n",
      "1\n",
      "1\n"
     ]
    }
   ],
   "source": [
    "#Question 4\n",
    "\n",
    "def factorial(n):\n",
    "    if n == 0:\n",
    "        return 1\n",
    "    else:\n",
    "        return n * factorial(n-1)\n",
    "\n",
    "# Example usage\n",
    "print(factorial(5)) # Output: 120\n",
    "print(factorial(3)) # Output: 6\n",
    "print(factorial(1)) # Output: 1\n",
    "print(factorial(0)) # Output: 1"
   ]
  },
  {
   "cell_type": "code",
   "execution_count": 41,
   "id": "1c3899f8",
   "metadata": {},
   "outputs": [
    {
     "name": "stdout",
     "output_type": "stream",
     "text": [
      "[3, 2, 4, 4, 1, 1]\n",
      "[7, 8, 1, 2, 3, 4, 9]\n",
      "['b', 'a', 'a', 'a']\n"
     ]
    }
   ],
   "source": [
    "#Question 5\n",
    "\n",
    "def move_to_end(lst, el):\n",
    "    return [x for x in lst if x!= el] + [x for x in lst if x == el]\n",
    "\n",
    "# Example usage\n",
    "print(move_to_end([1, 3, 2, 4, 4, 1], 1)) # Output: [3, 2, 4, 4, 1, 1]\n",
    "print(move_to_end([7, 8, 9, 1, 2, 3, 4], 9)) # Output: [7, 8, 1, 2, 3, 4, 9]\n",
    "print(move_to_end([\"a\", \"a\", \"a\", \"b\"], \"a\")) # Output: [\"b\", \"a\", \"a\", \"a\"]"
   ]
  },
  {
   "cell_type": "code",
   "execution_count": null,
   "id": "f212df3b",
   "metadata": {},
   "outputs": [],
   "source": []
  }
 ],
 "metadata": {
  "kernelspec": {
   "display_name": "Python 3 (ipykernel)",
   "language": "python",
   "name": "python3"
  },
  "language_info": {
   "codemirror_mode": {
    "name": "ipython",
    "version": 3
   },
   "file_extension": ".py",
   "mimetype": "text/x-python",
   "name": "python",
   "nbconvert_exporter": "python",
   "pygments_lexer": "ipython3",
   "version": "3.9.13"
  }
 },
 "nbformat": 4,
 "nbformat_minor": 5
}
