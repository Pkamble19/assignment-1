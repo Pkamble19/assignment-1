{
 "cells": [
  {
   "cell_type": "markdown",
   "id": "af634116",
   "metadata": {},
   "source": [
    "# Q.1. Write a Python Program to Find LCM?"
   ]
  },
  {
   "cell_type": "code",
   "execution_count": 3,
   "id": "30f095ad",
   "metadata": {},
   "outputs": [],
   "source": [
    "def Lcm(x, y):\n",
    "    \n",
    "    if x > y:\n",
    "        greater = x\n",
    "    else:\n",
    "        greater = y\n",
    "\n",
    "    while(True):\n",
    "        if((greater % x == 0) and (greater % y == 0)):\n",
    "            lcm = greater\n",
    "            break\n",
    "        greater += 1\n",
    "    return lcm\n",
    "    print(\"The L.C.M. is\", Lcm(num1, num2))"
   ]
  },
  {
   "cell_type": "code",
   "execution_count": 4,
   "id": "ef9c0f58",
   "metadata": {},
   "outputs": [
    {
     "data": {
      "text/plain": [
       "96"
      ]
     },
     "execution_count": 4,
     "metadata": {},
     "output_type": "execute_result"
    }
   ],
   "source": [
    "Lcm(12,32)"
   ]
  },
  {
   "cell_type": "markdown",
   "id": "fb9fadff",
   "metadata": {},
   "source": [
    "#  Q.2. Write a Python Program to Find HCF?"
   ]
  },
  {
   "cell_type": "code",
   "execution_count": 5,
   "id": "4587b6b6",
   "metadata": {},
   "outputs": [],
   "source": [
    "def Hcf(x, y):\n",
    "    if x > y:\n",
    "        smaller = y\n",
    "    else:\n",
    "        smaller = x\n",
    "    for i in range(1, smaller+1):\n",
    "        if((x % i == 0) and (y % i == 0)):\n",
    "            hcf = i \n",
    "    return hcf\n",
    "\n",
    "    print(\"The H.C.F. is\", compute_hcf(num1, num2))"
   ]
  },
  {
   "cell_type": "code",
   "execution_count": 10,
   "id": "e7a7e000",
   "metadata": {},
   "outputs": [
    {
     "data": {
      "text/plain": [
       "9"
      ]
     },
     "execution_count": 10,
     "metadata": {},
     "output_type": "execute_result"
    }
   ],
   "source": [
    "Hcf(1215,4284)"
   ]
  },
  {
   "cell_type": "markdown",
   "id": "6e76f07d",
   "metadata": {},
   "source": [
    "# Q.3. Write a Python Program to Convert Decimal to Binary, Octal and Hexadecimal?"
   ]
  },
  {
   "cell_type": "code",
   "execution_count": 21,
   "id": "7178a284",
   "metadata": {},
   "outputs": [
    {
     "name": "stdout",
     "output_type": "stream",
     "text": [
      "INPUT12\n",
      "The decimal value of 12 is:\n",
      "0b1100 in binary.\n",
      "0o14 in octal.\n",
      "0xc in hexadecimal.\n"
     ]
    }
   ],
   "source": [
    "dec = int(input(\"INPUT\"))\n",
    "\n",
    "print(\"The decimal value of\", dec, \"is:\")\n",
    "print(bin(dec), \"in binary.\")\n",
    "print(oct(dec), \"in octal.\")\n",
    "print(hex(dec), \"in hexadecimal.\")"
   ]
  },
  {
   "cell_type": "markdown",
   "id": "039f6f42",
   "metadata": {},
   "source": [
    "# 4. Write a Python Program To Find ASCII value of a character?"
   ]
  },
  {
   "cell_type": "code",
   "execution_count": 30,
   "id": "3b7ed9be",
   "metadata": {},
   "outputs": [
    {
     "name": "stdout",
     "output_type": "stream",
     "text": [
      "give inputq\n",
      "The ASCII value of 'q' is 113\n"
     ]
    }
   ],
   "source": [
    "character=input(\"give input\")\n",
    "print(\"The ASCII value of '\" + character + \"' is\", ord(character))"
   ]
  },
  {
   "cell_type": "markdown",
   "id": "46e0bc1f",
   "metadata": {},
   "source": [
    "# Q.5. Write a Python Program to Make a Simple Calculator with 4 basic mathematical operations?"
   ]
  },
  {
   "cell_type": "code",
   "execution_count": 40,
   "id": "52ee5c0c",
   "metadata": {},
   "outputs": [
    {
     "name": "stdout",
     "output_type": "stream",
     "text": [
      "Entre \"+\" for addition\n",
      "Entre \"-\" for substraction\n",
      "Entre \"x\" for multiplication\n",
      "Entre \"%\" for divison\n",
      "give your input =+\n",
      "ENTRE YOUR FIRST NUMBER =19\n",
      "ENTRE YOUR SECOND NUMBER =7\n",
      "answer of  19 + 7 is 26\n"
     ]
    }
   ],
   "source": [
    "print (\"\"\"Entre \"+\" for addition\n",
    "Entre \"-\" for substraction\n",
    "Entre \"x\" for multiplication\n",
    "Entre \"%\" for divison\"\"\")\n",
    "\n",
    "while True:\n",
    "    user_input=input(\"give your input =\")\n",
    "    if user_input == \"+\" or user_input == \"-\" or user_input == \"x\" or user_input==\"%\":\n",
    "        break\n",
    "first_number=int(input(\"ENTRE YOUR FIRST NUMBER =\"))\n",
    "second_number=int(input(\"ENTRE YOUR SECOND NUMBER =\"))\n",
    "try:\n",
    "    if user_input == \"+\":\n",
    "        answer=first_number+second_number\n",
    "        print(\"answer of \",first_number,\"+\",second_number,\"is\",answer)\n",
    "    if user_input == \"x\":\n",
    "        answer= first_number * second_number\n",
    "        print(\"answer of \",first_number,\"x\",second_number,\"is\",answer)\n",
    "    if user_input == \"%\":\n",
    "        answer=first_number/second_number\n",
    "        print(\"answer of \",first_number,\"%\",second_number,\"is\",answer)\n",
    "    if user_input == \"-\":\n",
    "        answer=first_number-second_number\n",
    "        print(\"answer of \",first_number,\"-\",second_number,\"is\",answer)\n",
    "except ZeroDivisionError :\n",
    "    print(\"Can't Devide By ZERO\")"
   ]
  },
  {
   "cell_type": "code",
   "execution_count": null,
   "id": "fb05f69d",
   "metadata": {},
   "outputs": [],
   "source": []
  }
 ],
 "metadata": {
  "kernelspec": {
   "display_name": "Python 3 (ipykernel)",
   "language": "python",
   "name": "python3"
  },
  "language_info": {
   "codemirror_mode": {
    "name": "ipython",
    "version": 3
   },
   "file_extension": ".py",
   "mimetype": "text/x-python",
   "name": "python",
   "nbconvert_exporter": "python",
   "pygments_lexer": "ipython3",
   "version": "3.9.12"
  }
 },
 "nbformat": 4,
 "nbformat_minor": 5
}
