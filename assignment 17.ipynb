{
 "cells": [
  {
   "cell_type": "markdown",
   "id": "9fd91266",
   "metadata": {},
   "source": [
    "# Q1. Greedy syntax matches the longest possible substring that satisfies the pattern, while non-greedy syntax matches the shortest possible substring. To transform a greedy pattern into a non-greedy one, add a question mark after the repetition operator. For example, \".\" (greedy) becomes \".?\" (non-greedy).\n",
    "\n",
    "# Q2. Greedy versus non-greedy makes a difference when the pattern matches more than one possible substring. If you're looking for a non-greedy match but the only one available is greedy, you may need to use more specific pattern syntax to ensure the desired result.\n",
    "\n",
    "# Q3. In a simple match of a string, the use of a non-tagged group is unlikely to make a practical difference.\n",
    "\n",
    "# Q4. A scenario in which using a non-tagged category would have a significant impact is when the program needs to match a specific category of characters, such as all punctuation marks, and perform an operation on them.\n",
    "\n",
    "# Q5. A look-ahead condition that does not consume the characters it examines can make a difference when the program needs to match a specific pattern but the matched characters should not be included in the final match result. For example, when parsing a string to extract email addresses, the program could use a look-ahead condition to match the domain name without including the \"@\" symbol.\n",
    "\n",
    "# Q6. Positive look-ahead asserts that the pattern matches if it is followed by another pattern, while negative look-ahead asserts that the pattern matches if it is not followed by another pattern.\n",
    "\n",
    "# Q7. Referring to groups by name instead of by number can make a standard expression more readable and easier to maintain. It also allows the program to use the group names as variables in subsequent operations.\n",
    "\n",
    "# Q8. Yes, you can identify repeated items within a target string using named groups. \n",
    "    \n",
    "# Q9. When parsing a string, the Scanner interface can automatically tokenize the string and return each token as a separate match object. This can be useful for parsing complex patterns that have multiple token types. In contrast, re.findall returns all non-overlapping matches of a pattern as a list of strings.\n",
    "\n",
    "# Q10. No, a scanner object can be named anything the programmer chooses.\n",
    "\n",
    "\n",
    "\n",
    "\n",
    "\n"
   ]
  },
  {
   "cell_type": "code",
   "execution_count": null,
   "id": "f45f0a46",
   "metadata": {},
   "outputs": [],
   "source": []
  }
 ],
 "metadata": {
  "kernelspec": {
   "display_name": "Python 3 (ipykernel)",
   "language": "python",
   "name": "python3"
  },
  "language_info": {
   "codemirror_mode": {
    "name": "ipython",
    "version": 3
   },
   "file_extension": ".py",
   "mimetype": "text/x-python",
   "name": "python",
   "nbconvert_exporter": "python",
   "pygments_lexer": "ipython3",
   "version": "3.9.13"
  }
 },
 "nbformat": 4,
 "nbformat_minor": 5
}
