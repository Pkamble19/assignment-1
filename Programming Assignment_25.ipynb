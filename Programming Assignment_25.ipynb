{
 "cells": [
  {
   "cell_type": "markdown",
   "id": "2d892646",
   "metadata": {},
   "source": [
    "# Q.1 Create a function that takes three integer arguments (a, b, c) and returns the amount of\n",
    "# integers which are of equal value.\n",
    "# Examples\n",
    "# equal(3, 4, 3) ➞ 2\n",
    "# equal(1, 1, 1) ➞ 3\n",
    "# equal(3, 4, 1) ➞ 0"
   ]
  },
  {
   "cell_type": "code",
   "execution_count": 1,
   "id": "0e2ccc3c",
   "metadata": {},
   "outputs": [
    {
     "name": "stdout",
     "output_type": "stream",
     "text": [
      "equal(3,4, 3) ➞ 2\n",
      "equal(1,1, 1) ➞ 3\n",
      "equal(3,4, 1) ➞ 0\n"
     ]
    }
   ],
   "source": [
    "def equal(a,b,c):\n",
    "    if a==b==c:\n",
    "        print (\"equal(%s,%s, %s) ➞ 3\"%(a,b,c))\n",
    "    elif a==b or b==c or a==c:\n",
    "        print (\"equal(%s,%s, %s) ➞ 2\"%(a,b,c))\n",
    "    else:\n",
    "        print (\"equal(%s,%s, %s) ➞ 0\"%(a,b,c))\n",
    "equal(3, 4, 3)\n",
    "equal(1, 1, 1)\n",
    "equal(3, 4, 1)"
   ]
  },
  {
   "cell_type": "markdown",
   "id": "5df963b6",
   "metadata": {},
   "source": [
    "# Q.2 Write a function that converts a dictionary into a list of keys-values tuples."
   ]
  },
  {
   "cell_type": "code",
   "execution_count": 2,
   "id": "e4d75813",
   "metadata": {},
   "outputs": [
    {
     "name": "stdout",
     "output_type": "stream",
     "text": [
      "[('B', 2), ('C', 3), ('D', 1)]\n",
      "[('dislikes', 3), ('followers', 10), ('likes', 2)]\n"
     ]
    }
   ],
   "source": [
    "def dict_to_list (d):\n",
    "    l=[]\n",
    "    for i,f in d.items():\n",
    "        l.append((i,f))\n",
    "        l.sort()\n",
    "    print(l)\n",
    "dict_to_list({\"D\": 1,\"B\": 2,\"C\": 3})    \n",
    "dict_to_list({\"likes\": 2,\"dislikes\": 3,\"followers\": 10})"
   ]
  },
  {
   "cell_type": "markdown",
   "id": "aafc1a02",
   "metadata": {},
   "source": [
    "# Q.3 Write a function that creates a dictionary with each (key, value) pair being the (lower case,\n",
    "# upper case) versions of a letter, respectively.\n",
    "# Examples\n",
    "# mapping([&quot;p&quot;, &quot;s&quot;]) ➞ { &quot;p&quot;: &quot;P&quot;, &quot;s&quot;: &quot;S&quot; }"
   ]
  },
  {
   "cell_type": "code",
   "execution_count": 3,
   "id": "f4407b6e",
   "metadata": {},
   "outputs": [
    {
     "name": "stdout",
     "output_type": "stream",
     "text": [
      "{'p': 'P', 's': 'S'}\n",
      "{'a': 'A', 'b': 'B', 'c': 'C'}\n",
      "{'a': 'A', 'v': 'V', 'y': 'Y', 'z': 'Z'}\n"
     ]
    }
   ],
   "source": [
    "def mapping (d):\n",
    "    dic={}\n",
    "    for i in d:\n",
    "        if i.islower() ==True:\n",
    "            dic[i]=i.upper()\n",
    "        else:\n",
    "            print(\"All of the letters in the input list will always be lowercase.\")\n",
    "    print (dic)\n",
    "mapping([\"p\", \"s\"])\n",
    "mapping([\"a\", \"b\", \"c\"])\n",
    "mapping([\"a\", \"v\", \"y\", \"z\"])\n",
    "    "
   ]
  },
  {
   "cell_type": "markdown",
   "id": "dceb4b76",
   "metadata": {},
   "source": [
    "# 4.Write a function, that replaces all vowels in a string with a specified vowel.\n",
    "# Examples:\n",
    "# vow_replace(\"apples and bananas\", \"u\") ➞ \"upplus und bununus\"\n",
    "# vow_replace(\"cheese casserole\", \"o\") ➞ \"chooso cossorolo\"\n",
    "# vow_replace(\"stuffed jalapeno poppers\", \"e\") ➞ \"steffed jelepene peppers\"\n",
    "\n",
    "# Notes:\n",
    "# All words will be lowercase. Y is not considered a vowel."
   ]
  },
  {
   "cell_type": "code",
   "execution_count": 4,
   "id": "3a013225",
   "metadata": {},
   "outputs": [
    {
     "name": "stdout",
     "output_type": "stream",
     "text": [
      "apples and bananas ➞ upplus und bununus\n",
      "cheese casserole ➞ chooso cossorolo\n",
      "stuffed jalapeno poppers ➞ steffed jelepene peppers\n"
     ]
    }
   ],
   "source": [
    "def  vow_replace (A,b):\n",
    "    vowels = ['a','e','i','o','u']\n",
    "    l=\"\"\n",
    "    for i in A:\n",
    "        if i in vowels:\n",
    "            l=l+b\n",
    "        else:\n",
    "            l=l+i\n",
    "    print(f'{A} ➞ {l}')\n",
    "    \n",
    "vow_replace(\"apples and bananas\", \"u\")\n",
    "vow_replace(\"cheese casserole\", \"o\")\n",
    "vow_replace(\"stuffed jalapeno poppers\", \"e\")"
   ]
  },
  {
   "cell_type": "markdown",
   "id": "e94294d1",
   "metadata": {},
   "source": [
    "# Q5.Create a function that takes a string as input and capitalizes a letter if its ASCII code is even and returns its lower case version if its ASCII code is odd.\n",
    "# Examples:\n",
    "# ascii_capitalize(\"to be or not to be!\") ➞ \"To Be oR NoT To Be!\"\n",
    "# ascii_capitalize(\"THE LITTLE MERMAID\") ➞ \"THe LiTTLe meRmaiD\"\n",
    "# ascii_capitalize(\"Oh what a beautiful morning.\") ➞ \"oH wHaT a BeauTiFuL moRNiNg.\""
   ]
  },
  {
   "cell_type": "code",
   "execution_count": 5,
   "id": "16eb4994",
   "metadata": {},
   "outputs": [
    {
     "name": "stdout",
     "output_type": "stream",
     "text": [
      "to be or not to be! ➞ To Be oR NoT To Be!\n",
      "THE LITTLE MERMAID ➞ THe LiTTLe meRmaiD\n",
      "Oh what a beautiful morning. ➞ oH wHaT a BeauTiFuL moRNiNg.\n"
     ]
    }
   ],
   "source": [
    "def ascii_capitalize (input_val):\n",
    "    output=\"\"\n",
    "    for i in  input_val:\n",
    "        if (ord(i)%2)==0:\n",
    "            output=output+i.upper()\n",
    "        else:\n",
    "            output=output+i.lower()\n",
    "    print(f'{input_val} ➞ {output}')\n",
    "\n",
    "ascii_capitalize(\"to be or not to be!\")\n",
    "ascii_capitalize(\"THE LITTLE MERMAID\")\n",
    "ascii_capitalize(\"Oh what a beautiful morning.\")"
   ]
  },
  {
   "cell_type": "code",
   "execution_count": null,
   "id": "acff6358",
   "metadata": {},
   "outputs": [],
   "source": []
  }
 ],
 "metadata": {
  "kernelspec": {
   "display_name": "Python 3 (ipykernel)",
   "language": "python",
   "name": "python3"
  },
  "language_info": {
   "codemirror_mode": {
    "name": "ipython",
    "version": 3
   },
   "file_extension": ".py",
   "mimetype": "text/x-python",
   "name": "python",
   "nbconvert_exporter": "python",
   "pygments_lexer": "ipython3",
   "version": "3.9.12"
  }
 },
 "nbformat": 4,
 "nbformat_minor": 5
}
