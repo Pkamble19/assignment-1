{
 "cells": [
  {
   "cell_type": "markdown",
   "id": "4603b54a",
   "metadata": {},
   "source": [
    "# Q1.What is the difference between __getattr__ and __getattribute__?\n",
    "\n",
    "The main difference between __getattr__ and __getattribute__ is that __getattr__ is only called when an attribute cannot be found via the usual lookup rules, whereas __getattribute__ is called for every attribute access. In other words, __getattr__ is a fallback method for missing attributes, whereas __getattribute__ is a more general method for intercepting attribute access.\n",
    "\n",
    "# Q2. What is the difference between properties and descriptors?\n",
    "\n",
    "Properties and descriptors are both ways to customize attribute access in Python. Properties are a simpler mechanism that allows you to define getter and setter methods for an attribute, which are called automatically when the attribute is accessed or modified. Descriptors are a more powerful mechanism that allows you to define custom behavior for attribute access, by defining special methods that are called when the attribute is accessed, modified, or deleted.\n",
    "\n",
    "# Q3.What are the key differences in functionality between __getattr__ and __getattribute__, as well as properties and descriptors?\n",
    "\n",
    "__getattr__ is called when an attribute is not found using the usual lookup rules, whereas __getattribute__ is called for every attribute access, even if the attribute exists. Properties provide a way to customize attribute access by defining getter and setter methods, while descriptors allow you to define custom behavior for attribute access by defining special methods such as __get__, __set__, and __delete__. In terms of functionality, properties are simpler and more limited than descriptors, but they are also easier to use and more commonly used in Python code."
   ]
  },
  {
   "cell_type": "code",
   "execution_count": null,
   "id": "acba3ef4",
   "metadata": {},
   "outputs": [],
   "source": []
  }
 ],
 "metadata": {
  "kernelspec": {
   "display_name": "Python 3 (ipykernel)",
   "language": "python",
   "name": "python3"
  },
  "language_info": {
   "codemirror_mode": {
    "name": "ipython",
    "version": 3
   },
   "file_extension": ".py",
   "mimetype": "text/x-python",
   "name": "python",
   "nbconvert_exporter": "python",
   "pygments_lexer": "ipython3",
   "version": "3.9.13"
  }
 },
 "nbformat": 4,
 "nbformat_minor": 5
}
