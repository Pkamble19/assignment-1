{
 "cells": [
  {
   "cell_type": "markdown",
   "id": "f439dda9",
   "metadata": {},
   "source": [
    "# Q1. What are the two latest user-defined exception constraints in Python 3.X?\n",
    "A1. The two latest user-defined exception constraints in Python 3.X are:\n",
    "\n",
    "Exception chaining: This allows exceptions to be linked together, with the original exception that caused the error being included in the traceback of the new exception that is raised.\n",
    "Exception context: This allows additional context information to be attached to an exception, such as the values of relevant variables, the state of the program, or the location where the exception occurred.\n",
    "\n",
    "# Q2. How are class-based exceptions that have been raised matched to handlers?\n",
    "A2. Class-based exceptions that have been raised are matched to handlers based on the type of the exception. In Python, exception handling is based on the concept of inheritance. When an exception is raised, Python looks for the first handler that matches the type of the exception or a superclass of that type. If no handler is found, the exception is propagated up the call stack until it is either caught or the program exits.\n",
    "\n",
    "# Q3. Describe two methods for attaching context information to exception artefacts.\n",
    "A3. Two methods for attaching context information to exception artefacts are:\n",
    "\n",
    "Using the \"raise from\" syntax: This allows a new exception to be raised that includes information from the original exception, including its type, traceback, and any context information that was attached to it.\n",
    "Using the \"with_traceback\" method: This allows a new exception to be created with a specific traceback, which can include context information such as the values of relevant variables or the state of the program.\n",
    "\n",
    "# Q4. Describe two methods for specifying the text of an exception object's error message.\n",
    "A4. Two methods for specifying the text of an exception object's error message are:\n",
    "\n",
    "Passing a string as an argument to the exception constructor: This allows a custom error message to be specified when creating an exception object. The error message can include information such as the values of relevant variables or the state of the program.\n",
    "Overriding the \"str\" method of the exception class: This allows the default error message to be replaced with a custom message that includes additional information or formatting.\n",
    "\n",
    "# Q5. Why do you no longer use string-based exceptions?\n",
    "A5. In earlier versions of Python, string-based exceptions were used to raise and catch exceptions. However, string-based exceptions were deprecated in Python 2.5 and removed in Python 3.0, because they were considered to be less expressive and less informative than class-based exceptions. Class-based exceptions allow for more detailed and specific error messages, and they make it easier to catch and handle exceptions based on their type or inheritance hierarchy. String-based exceptions also made it difficult to identify the source of an exception or to provide context information, which can be important for debugging and troubleshooting."
   ]
  },
  {
   "cell_type": "code",
   "execution_count": null,
   "id": "137945ac",
   "metadata": {},
   "outputs": [],
   "source": []
  }
 ],
 "metadata": {
  "kernelspec": {
   "display_name": "Python 3 (ipykernel)",
   "language": "python",
   "name": "python3"
  },
  "language_info": {
   "codemirror_mode": {
    "name": "ipython",
    "version": 3
   },
   "file_extension": ".py",
   "mimetype": "text/x-python",
   "name": "python",
   "nbconvert_exporter": "python",
   "pygments_lexer": "ipython3",
   "version": "3.9.13"
  }
 },
 "nbformat": 4,
 "nbformat_minor": 5
}
