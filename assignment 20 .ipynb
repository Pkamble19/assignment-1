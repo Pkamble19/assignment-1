{
 "cells": [
  {
   "cell_type": "markdown",
   "id": "e526a486",
   "metadata": {},
   "source": [
    "# Q1. Compare and contrast the float and Decimal classes' benefits and drawbacks.\n",
    "\n",
    "The float class is built into Python and uses a fixed number of bytes to represent a number in binary format. It has a wider range of values than the Decimal class, but its precision is limited to about 15 decimal places. On the other hand, the Decimal class, which is part of the decimal module, offers precise decimal arithmetic with a user-definable level of precision. It supports arbitrary-precision arithmetic, meaning it can handle numbers with an arbitrarily large number of digits. However, the Decimal class is slower and requires more memory than the float class.\n",
    "\n",
    "# Q2. Decimal('1.200') and Decimal('1.2') are two objects to consider. In what sense are these the same object? Are these just two ways of representing the exact same value, or do they correspond to different internal states?\n",
    "\n",
    "The Decimal('1.200') and Decimal('1.2') objects are not the same object, but they represent the same value. The Decimal class stores numbers as digits, and these two objects correspond to different internal states, but they both represent the same value of 1.2 with different levels of precision.\n",
    "\n",
    "# Q3. What happens if the equality of Decimal('1.200') and Decimal('1.2') is checked?\n",
    "\n",
    "The equality of Decimal('1.200') and Decimal('1.2') returns False because although they represent the same value, they correspond to different internal states.\n",
    "\n",
    "# Q4. Why is it preferable to start a Decimal object with a string rather than a floating-point value?\n",
    "\n",
    "It is preferable to start a Decimal object with a string rather than a floating-point value because floating-point values can have a loss of precision due to the way they are stored in binary format. On the other hand, a Decimal object constructed from a string will always have the expected value, without any loss of precision.\n",
    "\n",
    "# Q5. In an arithmetic phrase, how simple is it to combine Decimal objects with integers?\n",
    "\n",
    "It is very simple to combine Decimal objects with integers in an arithmetic phrase. Decimal objects can be added, subtracted, multiplied, and divided with integers just like with other Decimal objects, without any loss of precision.\n",
    "\n",
    "# Q6. Can Decimal objects and floating-point values be combined easily?\n",
    "\n",
    "Decimal objects and floating-point values can be combined easily, but the result may not be accurate due to the limited precision of floating-point values.\n",
    "\n",
    "# Q7. Using the Fraction class but not the Decimal class, give an example of a quantity that can be expressed with absolute precision.\n",
    "\n",
    "One example of a quantity that can be expressed with absolute precision using the Fraction class is 1/3. In decimal notation, 1/3 is a recurring decimal, but the Fraction class can represent it exactly as 1/3.\n",
    "\n",
    "# Q8. Describe a quantity that can be accurately expressed by the Decimal or Fraction classes but not by a floating-point value.\n",
    "\n",
    "A quantity that can be accurately expressed by the Decimal or Fraction classes but not by a floating-point value is 1/10. In binary floating-point representation, 1/10 is an infinite repeating fraction and cannot be represented accurately. However, the Decimal or Fraction classes can represent 1/10 exactly.\n",
    "\n",
    "# Q9. Consider the following two fraction objects: Fraction(1, 2) and Fraction(1, 2, 5, 10). Is the internal state of these two objects the same? Why do you think that is?\n",
    "\n",
    "The internal state of the two fraction objects, Fraction(1, 2) and Fraction(1, 2, 5, 10), is the same because they both represent the same value of 1/2. The additional arguments in Fraction(1, 2, 5, 10)\n",
    "\n",
    "\n",
    "\n",
    "\n",
    "\n"
   ]
  },
  {
   "cell_type": "code",
   "execution_count": null,
   "id": "62cbfc44",
   "metadata": {},
   "outputs": [],
   "source": []
  }
 ],
 "metadata": {
  "kernelspec": {
   "display_name": "Python 3 (ipykernel)",
   "language": "python",
   "name": "python3"
  },
  "language_info": {
   "codemirror_mode": {
    "name": "ipython",
    "version": 3
   },
   "file_extension": ".py",
   "mimetype": "text/x-python",
   "name": "python",
   "nbconvert_exporter": "python",
   "pygments_lexer": "ipython3",
   "version": "3.9.13"
  }
 },
 "nbformat": 4,
 "nbformat_minor": 5
}
