{
 "cells": [
  {
   "cell_type": "markdown",
   "id": "08c5076a",
   "metadata": {},
   "source": [
    "# 1. Write a Python program to check if the given number is a Disarium Number?"
   ]
  },
  {
   "cell_type": "code",
   "execution_count": 22,
   "id": "de5094aa",
   "metadata": {},
   "outputs": [
    {
     "name": "stdout",
     "output_type": "stream",
     "text": [
      "entre number = 175\n",
      "175 is Disarium number\n"
     ]
    }
   ],
   "source": [
    "def disarium (n):\n",
    "    out=0\n",
    "    for i in n:\n",
    "        out+=(int(i)**(n.index(i)+1))\n",
    "    if int(n)==out:\n",
    "        print(f'{n} is Disarium number')\n",
    "              \n",
    "    else:\n",
    "        print(f'{n} is Disarium not number')\n",
    "\n",
    "n=str(input('entre number = '))\n",
    "disarium(n)\n",
    "        \n",
    "              "
   ]
  },
  {
   "cell_type": "markdown",
   "id": "0388b651",
   "metadata": {},
   "source": [
    "# 2. Write a Python program to print all disarium numbers between 1 to 100?"
   ]
  },
  {
   "cell_type": "code",
   "execution_count": 31,
   "id": "8d07331f",
   "metadata": {},
   "outputs": [
    {
     "name": "stdout",
     "output_type": "stream",
     "text": [
      "0\n",
      "1\n",
      "2\n",
      "3\n",
      "4\n",
      "5\n",
      "6\n",
      "7\n",
      "8\n",
      "9\n",
      "89\n"
     ]
    }
   ],
   "source": [
    "def disarium100(n):\n",
    "    for (i) in range (n+1):\n",
    "        i=str(i)\n",
    "        out=0\n",
    "        for f in str(i):\n",
    "            out+=(int(f)**(i.index(f)+1))\n",
    "        if int(i)==out:\n",
    "            print(i)\n",
    "disarium100(100)     \n"
   ]
  },
  {
   "cell_type": "markdown",
   "id": "b9fac8a8",
   "metadata": {},
   "source": [
    "# 3. Write a Python program to check if the given number is Happy Number?"
   ]
  },
  {
   "cell_type": "code",
   "execution_count": 10,
   "id": "cc0f622c",
   "metadata": {
    "scrolled": false
   },
   "outputs": [
    {
     "name": "stdout",
     "output_type": "stream",
     "text": [
      "99 is not happy number\n"
     ]
    }
   ],
   "source": [
    "def happy(n):\n",
    "    a=n\n",
    "    while True :\n",
    "        out =0\n",
    "        for i in str(n):\n",
    "            out+=(int(i)**2)\n",
    "        n=out\n",
    "        if len(str(out))==1:\n",
    "            if out == 1:\n",
    "                print(f'{a} is happy number')\n",
    "                break\n",
    "            else:\n",
    "                print(f'{a} is not happy number')\n",
    "                break\n",
    "                    \n",
    "happy(99)\n",
    "        "
   ]
  },
  {
   "cell_type": "markdown",
   "id": "b44e1757",
   "metadata": {},
   "source": [
    "# 4. Write a Python program to print all happy numbers between 1 and 100?"
   ]
  },
  {
   "cell_type": "code",
   "execution_count": 15,
   "id": "a17938d3",
   "metadata": {},
   "outputs": [
    {
     "name": "stdout",
     "output_type": "stream",
     "text": [
      "1\n",
      "7\n",
      "10\n",
      "13\n",
      "19\n",
      "23\n",
      "28\n",
      "31\n",
      "32\n",
      "44\n",
      "49\n",
      "68\n",
      "70\n",
      "79\n",
      "82\n",
      "86\n",
      "91\n",
      "94\n",
      "97\n",
      "100\n"
     ]
    }
   ],
   "source": [
    "def happy100(n):\n",
    "    for i in range (n+1):\n",
    "        a=i\n",
    "        while True :\n",
    "            out =0\n",
    "            for f in str(i):\n",
    "                out+=(int(f)**2)\n",
    "            i=out\n",
    "            if len(str(out))==1:\n",
    "                if out == 1:\n",
    "                    print(a)\n",
    "                    break\n",
    "                else:\n",
    "                    break\n",
    "happy100(100)\n",
    "                    \n",
    "        "
   ]
  },
  {
   "cell_type": "markdown",
   "id": "89569a1d",
   "metadata": {},
   "source": [
    "# 5. Write a Python program to determine whether the given number is a Harshad Number?"
   ]
  },
  {
   "cell_type": "code",
   "execution_count": 22,
   "id": "b0e3eea4",
   "metadata": {},
   "outputs": [
    {
     "name": "stdout",
     "output_type": "stream",
     "text": [
      "171 is Harshad Number\n",
      "353 is not Harshad Number\n"
     ]
    }
   ],
   "source": [
    "def harshad(n):\n",
    "    out=0\n",
    "    for i in str(n):\n",
    "        out+=int(i)\n",
    "    if n%out ==0:\n",
    "        print (f'{n} is Harshad Number')\n",
    "    else :\n",
    "        print (f'{n} is not Harshad Number')\n",
    "harshad(171)       \n",
    "harshad(353)"
   ]
  },
  {
   "cell_type": "markdown",
   "id": "d4b09c01",
   "metadata": {},
   "source": [
    "# 6. Write a Python program to print all pronic numbers between 1 and 100?"
   ]
  },
  {
   "cell_type": "code",
   "execution_count": 23,
   "id": "ef21e2a6",
   "metadata": {},
   "outputs": [
    {
     "name": "stdout",
     "output_type": "stream",
     "text": [
      "2\n",
      " \n",
      "6\n",
      " \n",
      "12\n",
      " \n",
      "20\n",
      " \n",
      "30\n",
      " \n",
      "42\n",
      " \n",
      "56\n",
      " \n",
      "72\n",
      " \n",
      "90\n",
      " \n"
     ]
    }
   ],
   "source": [
    "def isPronicNumber(num):    \n",
    "    flag = False;    \n",
    "    for j in range(1, num+1):    \n",
    "        if((j*(j+1)) == num):    \n",
    "            flag = True;    \n",
    "            break;    \n",
    "    return flag;    \n",
    "\n",
    "for i in range(1, 101):    \n",
    "    if(isPronicNumber(i)):    \n",
    "        print(i),    \n",
    "        print(\" \"),    "
   ]
  },
  {
   "cell_type": "code",
   "execution_count": null,
   "id": "e96bfc52",
   "metadata": {},
   "outputs": [],
   "source": []
  }
 ],
 "metadata": {
  "kernelspec": {
   "display_name": "Python 3 (ipykernel)",
   "language": "python",
   "name": "python3"
  },
  "language_info": {
   "codemirror_mode": {
    "name": "ipython",
    "version": 3
   },
   "file_extension": ".py",
   "mimetype": "text/x-python",
   "name": "python",
   "nbconvert_exporter": "python",
   "pygments_lexer": "ipython3",
   "version": "3.9.13"
  }
 },
 "nbformat": 4,
 "nbformat_minor": 5
}
