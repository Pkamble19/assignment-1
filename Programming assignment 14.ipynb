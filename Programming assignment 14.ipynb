{
 "cells": [
  {
   "cell_type": "markdown",
   "id": "3bec25a8",
   "metadata": {},
   "source": [
    "# Q.1 Define a class with a generator which can iterate the numbers, which are divisible by 7, between a given range 0 and n.\n"
   ]
  },
  {
   "cell_type": "code",
   "execution_count": 1,
   "id": "545da7e3",
   "metadata": {},
   "outputs": [
    {
     "name": "stdout",
     "output_type": "stream",
     "text": [
      "0\n",
      "7\n",
      "14\n",
      "21\n",
      "28\n",
      "35\n",
      "42\n",
      "49\n",
      "56\n",
      "63\n",
      "70\n",
      "77\n",
      "84\n",
      "91\n",
      "98\n"
     ]
    }
   ],
   "source": [
    "class DivisibleBySeven:\n",
    "    def __init__(self, n):\n",
    "        self.n = n\n",
    "\n",
    "    def divisible_by_seven(self):\n",
    "        for i in range(0, self.n + 1):\n",
    "            if i % 7 == 0:\n",
    "                yield i\n",
    "\n",
    "gen = DivisibleBySeven(100)\n",
    "for i in gen.divisible_by_seven():\n",
    "    print(i)\n"
   ]
  },
  {
   "cell_type": "markdown",
   "id": "8659ef5a",
   "metadata": {},
   "source": [
    "# Q.2 Write a program to compute the frequency of the words from the input. The output should output after sorting the key alphanumerically. \n",
    "Suppose the following input is supplied to the program:\n",
    "\n",
    "\n",
    "\n",
    "\n",
    "New to Python or choosing between Python 2 and Python 3? Read Python 2 or Python 3.\n",
    "\n",
    "\n",
    "\n",
    "\n",
    "Then, the output should be:\n",
    "\n",
    "\n",
    "\n",
    "\n",
    "2:2\n",
    "\n",
    "\n",
    "\n",
    "\n",
    "3.:1\n",
    "\n",
    "\n",
    "\n",
    "\n",
    "3?:1\n",
    "\n",
    "\n",
    "\n",
    "\n",
    "New:1\n",
    "\n",
    "\n",
    "\n",
    "\n",
    "Python:5\n",
    "\n",
    "\n",
    "\n",
    "\n",
    "Read:1\n",
    "\n",
    "\n",
    "\n",
    "\n",
    "and:1\n",
    "\n",
    "\n",
    "\n",
    "\n",
    "between:1\n",
    "\n",
    "\n",
    "\n",
    "\n",
    "choosing:1\n",
    "\n",
    "\n",
    "\n",
    "\n",
    "or:2\n",
    "\n",
    "\n",
    "\n",
    "to:1"
   ]
  },
  {
   "cell_type": "code",
   "execution_count": 2,
   "id": "30174c2c",
   "metadata": {},
   "outputs": [
    {
     "name": "stdout",
     "output_type": "stream",
     "text": [
      "2: 2\n",
      "3.: 1\n",
      "3?: 1\n",
      "New: 1\n",
      "Python: 5\n",
      "Read: 1\n",
      "and: 1\n",
      "between: 1\n",
      "choosing: 1\n",
      "or: 2\n",
      "to: 1\n"
     ]
    }
   ],
   "source": [
    "def word_frequency(text):\n",
    "    words = text.split()\n",
    "    frequency = {}\n",
    "    for word in words:\n",
    "        if word in frequency:\n",
    "            frequency[word] += 1\n",
    "        else:\n",
    "            frequency[word] = 1\n",
    "    sorted_frequency = dict(sorted(frequency.items()))\n",
    "    for key, value in sorted_frequency.items():\n",
    "        print(\"{}: {}\".format(key, value))\n",
    "\n",
    "word_frequency(\"New to Python or choosing between Python 2 and Python 3? Read Python 2 or Python 3.\")\n"
   ]
  },
  {
   "cell_type": "markdown",
   "id": "9bb5f189",
   "metadata": {},
   "source": [
    "# Q3 Define a class Person and its two child classes: Male and Female. All classes have a method \"getGender\" which can print \"Male\" for Male class and \"Female\" for Female class."
   ]
  },
  {
   "cell_type": "code",
   "execution_count": 3,
   "id": "48f53d5a",
   "metadata": {},
   "outputs": [],
   "source": [
    "class Person:\n",
    "  def getGender(self):\n",
    "    pass\n",
    "\n",
    "class Male(Person):\n",
    "  def getGender(self):\n",
    "    print(\"Male\")\n",
    "\n",
    "class Female(Person):\n",
    "  def getGender(self):\n",
    "    print(\"Female\")\n"
   ]
  },
  {
   "cell_type": "markdown",
   "id": "fbec101e",
   "metadata": {},
   "source": [
    "# Q4. Please write a program to generate all sentences where subject is in [\"I\", \"You\"] and verb is in [\"Play\", \"Love\"] and the object is in [\"Hockey\",\"Football\"].\n"
   ]
  },
  {
   "cell_type": "code",
   "execution_count": 4,
   "id": "0559c0e4",
   "metadata": {},
   "outputs": [
    {
     "name": "stdout",
     "output_type": "stream",
     "text": [
      "I Play Hockey.\n",
      "I Play Football.\n",
      "I Love Hockey.\n",
      "I Love Football.\n",
      "You Play Hockey.\n",
      "You Play Football.\n",
      "You Love Hockey.\n",
      "You Love Football.\n"
     ]
    }
   ],
   "source": [
    "subjects = [\"I\", \"You\"]\n",
    "verbs = [\"Play\", \"Love\"]\n",
    "objects = [\"Hockey\",\"Football\"]\n",
    "\n",
    "for subject in subjects:\n",
    "  for verb in verbs:\n",
    "    for obj in objects:\n",
    "      print(f\"{subject} {verb} {obj}.\")\n"
   ]
  },
  {
   "cell_type": "markdown",
   "id": "7dc3e8e6",
   "metadata": {},
   "source": [
    "# Q.5 Please write a program to compress and decompress the string \"hello world!hello world!hello world!hello world!\".\n"
   ]
  },
  {
   "cell_type": "code",
   "execution_count": 5,
   "id": "c8065aff",
   "metadata": {},
   "outputs": [
    {
     "name": "stdout",
     "output_type": "stream",
     "text": [
      "Original string: hello world!hello world!hello world!hello world!\n",
      "Compressed string: b'x\\x9c\\xcbH\\xcd\\xc9\\xc9W(\\xcf/\\xcaIQ\\xcc \\x82\\r\\x00\\xbd[\\x11\\xf5'\n",
      "Decompressed string: hello world!hello world!hello world!hello world!\n"
     ]
    }
   ],
   "source": [
    "import zlib\n",
    "\n",
    "def compress(string):\n",
    "  return zlib.compress(string.encode())\n",
    "\n",
    "def decompress(compressed_string):\n",
    "  return zlib.decompress(compressed_string).decode()\n",
    "\n",
    "string = \"hello world!hello world!hello world!hello world!\"\n",
    "compressed_string = compress(string)\n",
    "decompressed_string = decompress(compressed_string)\n",
    "\n",
    "print(\"Original string:\", string)\n",
    "print(\"Compressed string:\", compressed_string)\n",
    "print(\"Decompressed string:\", decompressed_string)\n"
   ]
  },
  {
   "cell_type": "markdown",
   "id": "83c66b4c",
   "metadata": {},
   "source": [
    "# Q.6 Please write a binary search function which searches an item in a sorted list. The function should return the index of element to be searched in the list."
   ]
  },
  {
   "cell_type": "code",
   "execution_count": 6,
   "id": "03104afe",
   "metadata": {},
   "outputs": [
    {
     "name": "stdout",
     "output_type": "stream",
     "text": [
      "Element is present at index 3\n"
     ]
    }
   ],
   "source": [
    "def binary_search(arr, x):\n",
    "  low = 0\n",
    "  high = len(arr) - 1\n",
    "  \n",
    "  while low <= high:\n",
    "    mid = (low + high) // 2\n",
    "    if arr[mid] == x:\n",
    "      return mid\n",
    "    elif arr[mid] < x:\n",
    "      low = mid + 1\n",
    "    else:\n",
    "      high = mid - 1\n",
    "  return -1\n",
    "\n",
    "arr = [1, 3, 4, 6, 8, 9, 11]\n",
    "x = 6\n",
    "\n",
    "result = binary_search(arr, x)\n",
    "\n",
    "if result != -1:\n",
    "  print(\"Element is present at index\", result)\n",
    "else:\n",
    "  print(\"Element is not present in array\")\n"
   ]
  },
  {
   "cell_type": "code",
   "execution_count": null,
   "id": "8369a61d",
   "metadata": {},
   "outputs": [],
   "source": []
  }
 ],
 "metadata": {
  "kernelspec": {
   "display_name": "Python 3 (ipykernel)",
   "language": "python",
   "name": "python3"
  },
  "language_info": {
   "codemirror_mode": {
    "name": "ipython",
    "version": 3
   },
   "file_extension": ".py",
   "mimetype": "text/x-python",
   "name": "python",
   "nbconvert_exporter": "python",
   "pygments_lexer": "ipython3",
   "version": "3.9.7"
  }
 },
 "nbformat": 4,
 "nbformat_minor": 5
}
