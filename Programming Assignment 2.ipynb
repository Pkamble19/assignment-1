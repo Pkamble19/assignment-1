{
 "cells": [
  {
   "cell_type": "markdown",
   "id": "ed5a6fa4",
   "metadata": {},
   "source": [
    "#    Q.1 Write a Python program to convert kilometers to miles?"
   ]
  },
  {
   "cell_type": "code",
   "execution_count": 3,
   "id": "f0b3a392",
   "metadata": {},
   "outputs": [
    {
     "name": "stdout",
     "output_type": "stream",
     "text": [
      "If you want to convert kilometers to miles Type K \n",
      "If you want to convert  miles to kilometers Type M \n",
      "ENTRE YOURE ANSWER = m\n",
      "Entre Miles12\n",
      "12 miles is  19.31208 kilometers\n"
     ]
    }
   ],
   "source": [
    "print(\"If you want to convert kilometers to miles Type K \")\n",
    "print(\"If you want to convert  miles to kilometers Type M \")\n",
    "while True:\n",
    "    CT= str(input(\"ENTRE YOURE ANSWER = \"))\n",
    "    CT= CT.upper()\n",
    "    try:\n",
    "        if CT== \"K\" :\n",
    "            A=int(input(\"Entre Kilometers\"))    \n",
    "            Miles= A*0.621371 #conversion formula\n",
    "            print (  A ,\"kilometers is \" ,Miles,\"miles\" )\n",
    "            break\n",
    "        if CT==\"M\":\n",
    "            B=int(input(\"Entre Miles\"))  \n",
    "            Kilometers= B*1.60934\n",
    "            print (  B ,\"miles is \" ,Kilometers,\"kilometers\" )\n",
    "            break\n",
    "    except Exception as e:\n",
    "        print (e)\n",
    "        "
   ]
  },
  {
   "cell_type": "markdown",
   "id": "c89b006a",
   "metadata": {},
   "source": [
    "# Q.2 Write a Python program to convert Celsius to Fahrenheit?"
   ]
  },
  {
   "cell_type": "code",
   "execution_count": 6,
   "id": "53fed57a",
   "metadata": {},
   "outputs": [
    {
     "name": "stdout",
     "output_type": "stream",
     "text": [
      "If you want to convert Celsius to Fahrenheit Type C \n",
      "If you want to convert  Fahrenheit to Celsius Type F \n",
      "ENTRE YOURE ANSWER = f\n",
      "Entre Fahrenheit12\n",
      "12 Fahrenheit is  -11.11111111111111 Celsius\n"
     ]
    }
   ],
   "source": [
    "print(\"If you want to convert Celsius to Fahrenheit Type C \")\n",
    "print(\"If you want to convert  Fahrenheit to Celsius Type F \")\n",
    "while True:\n",
    "    CT= str(input(\"ENTRE YOURE ANSWER = \"))\n",
    "    CT= CT.upper()\n",
    "    try:\n",
    "        if CT== \"C\" :\n",
    "            A=int(input(\"Entre Celsius\"))    \n",
    "            Fahrenheit= (A*9/5)+32 #conversion formula\n",
    "            print (  A ,\"Celsius is \" ,Fahrenheit,\"Fahrenheit\" )\n",
    "            break\n",
    "        if CT==\"F\":\n",
    "            B=int(input(\"Entre Fahrenheit\"))  \n",
    "            Celsius= (B-32)*5/9 #conversion formula\n",
    "            print (  B ,\"Fahrenheit is \" ,Celsius,\"Celsius\" )\n",
    "            break\n",
    "    except Exception as e:\n",
    "        print (e)\n",
    "        "
   ]
  },
  {
   "cell_type": "markdown",
   "id": "e7780b56",
   "metadata": {},
   "source": [
    "# Q.3 Write a Python program to display calendar?"
   ]
  },
  {
   "cell_type": "code",
   "execution_count": 7,
   "id": "1cd9e37a",
   "metadata": {},
   "outputs": [
    {
     "name": "stdout",
     "output_type": "stream",
     "text": [
      "Enter year: 1999\n",
      "Enter month: 7\n",
      "     July 1999\n",
      "Mo Tu We Th Fr Sa Su\n",
      "          1  2  3  4\n",
      " 5  6  7  8  9 10 11\n",
      "12 13 14 15 16 17 18\n",
      "19 20 21 22 23 24 25\n",
      "26 27 28 29 30 31\n",
      "\n"
     ]
    }
   ],
   "source": [
    "import calendar  \n",
    "yy = int(input(\"Enter year: \"))  \n",
    "mm = int(input(\"Enter month: \"))    \n",
    "print(calendar.month(yy,mm))  "
   ]
  },
  {
   "cell_type": "markdown",
   "id": "f0942ded",
   "metadata": {},
   "source": [
    "# Q.4. Write a Python program to solve quadratic equation?\n"
   ]
  },
  {
   "cell_type": "code",
   "execution_count": 10,
   "id": "b108e124",
   "metadata": {},
   "outputs": [
    {
     "name": "stdout",
     "output_type": "stream",
     "text": [
      "Enter a: 12.5\n",
      "Enter b: 15\n",
      "Enter c: 1.5\n",
      "Genral form= ax2+bx+c=0\n",
      "The solution are (-1.0898979485566356+0j) and (-0.1101020514433644+0j)\n"
     ]
    }
   ],
   "source": [
    "import cmath  \n",
    "a = float(input('Enter a: '))  \n",
    "b = float(input('Enter b: '))  \n",
    "c = float(input('Enter c: '))  \n",
    "print(\"Genral form= ax2+bx+c=0\") \n",
    "# calculate the discriminant  \n",
    "d = (b**2) - (4*a*c)  \n",
    "\n",
    "sol1 = (-b-cmath.sqrt(d))/(2*a)  \n",
    "sol2 = (-b+cmath.sqrt(d))/(2*a)  \n",
    "print('The solution are {0} and {1}'.format(sol1,sol2)) "
   ]
  },
  {
   "cell_type": "markdown",
   "id": "2f44bf45",
   "metadata": {},
   "source": [
    "# Q.5. Write a Python program to swap two variables without temp variable?"
   ]
  },
  {
   "cell_type": "code",
   "execution_count": 12,
   "id": "9914b9eb",
   "metadata": {},
   "outputs": [
    {
     "name": "stdout",
     "output_type": "stream",
     "text": [
      "Enter first number: 12\n",
      "Enter second number: 13\n",
      "Before Swapping 12 13\n",
      "After Swapping 13 12\n"
     ]
    }
   ],
   "source": [
    "num_1 = int(input('Enter first number: '))\n",
    "num_2 = int(input('Enter second number: '))\n",
    "\n",
    "\n",
    "def swapNumbers(num_1,num_2):\n",
    "        print('Before Swapping',num_1,num_2)\n",
    "        num_1 = num_1+num_2\n",
    "        num_2 = num_1-num_2\n",
    "        num_1 = num_1-num_2\n",
    "        print('After Swapping',num_1,num_2)\n",
    "\n",
    "swapNumbers(num_1,num_2)"
   ]
  },
  {
   "cell_type": "code",
   "execution_count": null,
   "id": "3a4dd7a0",
   "metadata": {},
   "outputs": [],
   "source": []
  }
 ],
 "metadata": {
  "kernelspec": {
   "display_name": "Python 3 (ipykernel)",
   "language": "python",
   "name": "python3"
  },
  "language_info": {
   "codemirror_mode": {
    "name": "ipython",
    "version": 3
   },
   "file_extension": ".py",
   "mimetype": "text/x-python",
   "name": "python",
   "nbconvert_exporter": "python",
   "pygments_lexer": "ipython3",
   "version": "3.9.12"
  }
 },
 "nbformat": 4,
 "nbformat_minor": 5
}
