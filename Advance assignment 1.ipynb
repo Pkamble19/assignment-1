{
 "cells": [
  {
   "cell_type": "markdown",
   "id": "1a8460eb",
   "metadata": {},
   "source": [
    "# Q1. What is the purpose of Python OOP?"
   ]
  },
  {
   "cell_type": "markdown",
   "id": "f6c9bfc1",
   "metadata": {},
   "source": [
    "Object-oriented programming (OOP) is a programming paradigm that uses objects and classes in Python. It aims to implement real-world entities like inheritance, polymorphisms, encapsulation, etc. in programming. The purpose of OOP is to structure your code in a way that is easier to follow by defining objects you can interface within your Python programs"
   ]
  },
  {
   "cell_type": "markdown",
   "id": "2c50c78a",
   "metadata": {},
   "source": [
    "# Q2. Where does an inheritance search look for an attribute?\n"
   ]
  },
  {
   "cell_type": "markdown",
   "id": "995b32ba",
   "metadata": {},
   "source": [
    "When searching for an attribute in Python's inheritance hierarchy, Python first looks in the instance itself, then in the class, then in any superclasses that the class inherits from (in order of inheritance).\n",
    "\n"
   ]
  },
  {
   "cell_type": "markdown",
   "id": "9c18f0dc",
   "metadata": {},
   "source": [
    "# Q3. How do you distinguish between a class object and an instance object?\n"
   ]
  },
  {
   "cell_type": "markdown",
   "id": "a1c66901",
   "metadata": {},
   "source": [
    "A class object is an object that represents the class itself, while an instance object is an object that represents a specific instance of the class."
   ]
  },
  {
   "cell_type": "markdown",
   "id": "ec2d1d08",
   "metadata": {},
   "source": [
    "# Q4. What makes the first argument in a class’s method function special"
   ]
  },
  {
   "cell_type": "markdown",
   "id": "79b6b6ac",
   "metadata": {},
   "source": [
    "The first argument in a class's method function, conventionally called \"self,\" is used to refer to the instance object that the method is being called on. This allows the method to access and modify the attributes of the instance."
   ]
  },
  {
   "cell_type": "markdown",
   "id": "e079b7f9",
   "metadata": {},
   "source": [
    "# Q5. What is the purpose of the __init__ method?"
   ]
  },
  {
   "cell_type": "markdown",
   "id": "bba89770",
   "metadata": {},
   "source": [
    ". The init method is a special method that is called when an instance of a class is created. It is used to initialize the instance's attributes with default or user-specified values."
   ]
  },
  {
   "cell_type": "markdown",
   "id": "39c502d8",
   "metadata": {},
   "source": [
    "# Q6. What is the process for creating a class instance?"
   ]
  },
  {
   "cell_type": "markdown",
   "id": "88892e75",
   "metadata": {},
   "source": [
    "To create a class instance in Python, you first create a class by defining it in code, then you call the class like a function, passing in any necessary arguments. This creates a new instance of the class, which you can then manipulate and interact with."
   ]
  },
  {
   "cell_type": "markdown",
   "id": "721e6924",
   "metadata": {},
   "source": [
    "# Q7. What is the process for creating a class?"
   ]
  },
  {
   "cell_type": "markdown",
   "id": "e0b52409",
   "metadata": {},
   "source": [
    "To create a class in Python, you use the \"class\" keyword followed by the name of the class and a colon. Inside the class definition, you can define attributes and methods for the class."
   ]
  },
  {
   "cell_type": "markdown",
   "id": "e8eeff04",
   "metadata": {},
   "source": [
    "# Q8. How would you define the superclasses of a class?"
   ]
  },
  {
   "cell_type": "markdown",
   "id": "12c0c0b5",
   "metadata": {},
   "source": [
    "The superclasses of a class are the classes that it directly inherits from, as well as any classes that those classes inherit from (and so on, up the inheritance hierarchy). These superclasses provide the attributes and methods that the class can use, and the class can override or add to them as necessary."
   ]
  },
  {
   "cell_type": "code",
   "execution_count": null,
   "id": "1c5bc4c1",
   "metadata": {},
   "outputs": [],
   "source": []
  }
 ],
 "metadata": {
  "kernelspec": {
   "display_name": "Python 3 (ipykernel)",
   "language": "python",
   "name": "python3"
  },
  "language_info": {
   "codemirror_mode": {
    "name": "ipython",
    "version": 3
   },
   "file_extension": ".py",
   "mimetype": "text/x-python",
   "name": "python",
   "nbconvert_exporter": "python",
   "pygments_lexer": "ipython3",
   "version": "3.9.13"
  }
 },
 "nbformat": 4,
 "nbformat_minor": 5
}
