{
 "cells": [
  {
   "cell_type": "markdown",
   "id": "ea35d3c9",
   "metadata": {},
   "source": [
    "# Q1. Is an assignment operator like += only for show? Is it possible that it would lead to faster results at the runtime?\n",
    "A1. The assignment operator, including +=, is not just for show and can lead to faster results at runtime. This is because it allows for in-place modification of values without having to create a new object.\n",
    "\n",
    "# Q2. What is the smallest number of statements you'd have to write in most programming languages to replace the Python expression a, b = a + b, a?\n",
    "A2. In most programming languages, you would need three statements to replace the Python expression a, b = a + b, a. This is because you would need to use a temporary variable to store the value of a + b before assigning it to b, and then assign the original value of b to a.\n",
    "\n",
    "# Q3. In Python, what is the most effective way to set a list of 100 integers to 0?\n",
    "A3. The most effective way to set a list of 100 integers to 0 in Python is to use a list comprehension: my_list = [0] * 100.\n",
    "\n",
    "# Q4. What is the most effective way to initialise a list of 99 integers that repeats the sequence 1, 2, 3? S If necessary, show step-by-step instructions on how to accomplish this.\n",
    "A4. The most effective way to initialize a list of 99 integers that repeats the sequence 1, 2, 3 is to use a list comprehension: \n",
    "# my_list = [i for i in range(1,4)] * 33. \n",
    "\n",
    "This creates a list of the sequence [1,2,3] and then multiplies it by 33 to create a list of 99 integers with that sequence.\n",
    "\n",
    "# Q5. If you're using IDLE to run a Python application, explain how to print a multidimensional list as efficiently?\n",
    "A5. To print a multidimensional list efficiently in IDLE, you can use nested loops to iterate through each element of the list and print it out. For example:\n",
    "\n",
    "# my_list = [[1,2,3],[4,5,6],[7,8,9]]\n",
    "# for row in my_list:\n",
    "   # for item in row:\n",
    "   # print(item, end=' ')\n",
    "   # print()\n",
    "    \n",
    "    \n",
    "# Q6. Is it possible to use list comprehension with a string? If so, how can you go about doing it?\n",
    "\n",
    "A6. Yes, it is possible to use list comprehension with a string. You can use the list() function to convert the string into a list of characters, and then use list comprehension to modify or filter the list. For example,\n",
    "# my_string = \"hello world\"; \n",
    "# my_list = [x.upper() for x in list(my_string)] \n",
    "\n",
    "would create a list of the uppercase versions of each character in the string.\n",
    "\n",
    "# Q7. From the command line, how do you get support with a user-written Python programme? Is this possible from inside IDLE?\n",
    "A7. From the command line, you can get support with a user-written Python program by using the --help or -h flag when running the program. You can also include documentation in your program using docstrings and access it with the help() function. It is also possible to get support from inside IDLE by using the same docstring and help() function methods.\n",
    "\n",
    "# Q8. Functions are said to be “first-class objects” in Python but not in most other languages, such as C++ or Java. What can you do in Python with a function (callable object) that you can't do in C or C++?\n",
    "A8. In Python, functions are first-class objects"
   ]
  },
  {
   "cell_type": "code",
   "execution_count": null,
   "id": "b6f0c323",
   "metadata": {},
   "outputs": [],
   "source": []
  }
 ],
 "metadata": {
  "kernelspec": {
   "display_name": "Python 3 (ipykernel)",
   "language": "python",
   "name": "python3"
  },
  "language_info": {
   "codemirror_mode": {
    "name": "ipython",
    "version": 3
   },
   "file_extension": ".py",
   "mimetype": "text/x-python",
   "name": "python",
   "nbconvert_exporter": "python",
   "pygments_lexer": "ipython3",
   "version": "3.9.13"
  }
 },
 "nbformat": 4,
 "nbformat_minor": 5
}
