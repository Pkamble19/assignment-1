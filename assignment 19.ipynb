{
 "cells": [
  {
   "cell_type": "markdown",
   "id": "340754b7",
   "metadata": {},
   "source": [
    "Q1. In object-oriented programming, a class is a blueprint or a template for creating objects, while an instance is an object that is created from a class. The relationship between a class and its instances is a one-to-many partnership because a class can create multiple instances or objects.\n",
    "\n",
    "Q2. Instance variables, also known as attributes, hold data that is unique to each instance of a class.\n",
    "\n",
    "Q3. Class knowledge, also known as class attributes or static variables, is stored in the class itself, and not in its instances. This means that all instances of the class share the same value for class attributes.\n",
    "\n",
    "Q4. A method is a function that is defined inside a class and operates on instances of that class. The primary difference between a method and a regular function is that a method must have an instance of the class as its first parameter, conventionally named 'self', which refers to the instance that the method is called on.\n",
    "\n",
    "Q5. Yes, inheritance is supported in Python, and it is achieved by defining a new class that inherits the attributes and methods of an existing class. The syntax for defining a subclass is as follows: class SubclassName(BaseClassName):.\n",
    "\n",
    "Q6. Python supports a moderate amount of encapsulation. Conventionally, instance variables are made private by prefixing them with two underscores, which makes them difficult to access from outside the class, but not truly private.\n",
    "\n",
    "Q7. A class variable is a variable that is shared by all instances of a class, while an instance variable is a variable that is unique to each instance of a class.\n",
    "\n",
    "Q8. 'Self' is included in a class's method definitions whenever the method needs to operate on instance variables or call other instance methods.\n",
    "\n",
    "Q9. 'add' is the method used to overload the '+' operator for a class, while 'radd' is used to overload the '+' operator when the object on the right-hand side is not an instance of the class.\n",
    "\n",
    "Q10. Reflection methods are necessary when you need to access an object's attributes or methods dynamically, at runtime, by their name. You do not need reflection methods when you know the names of the attributes and methods at coding time.\n",
    "\n",
    "Q11. 'iadd' is the in-place addition method, which is called when the '+=' operator is used.\n",
    "\n",
    "Q12. Yes, the 'init' method is inherited by subclasses. To customize its behavior within a subclass, you can override it by defining a new 'init' method in the subclass that calls the superclass's 'init' method and adds any additional functionality.\n",
    "\n",
    "\n",
    "\n",
    "\n",
    "\n"
   ]
  },
  {
   "cell_type": "code",
   "execution_count": null,
   "id": "67ae4fbe",
   "metadata": {},
   "outputs": [],
   "source": []
  }
 ],
 "metadata": {
  "kernelspec": {
   "display_name": "Python 3 (ipykernel)",
   "language": "python",
   "name": "python3"
  },
  "language_info": {
   "codemirror_mode": {
    "name": "ipython",
    "version": 3
   },
   "file_extension": ".py",
   "mimetype": "text/x-python",
   "name": "python",
   "nbconvert_exporter": "python",
   "pygments_lexer": "ipython3",
   "version": "3.9.13"
  }
 },
 "nbformat": 4,
 "nbformat_minor": 5
}
