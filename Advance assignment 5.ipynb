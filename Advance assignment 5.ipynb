{
 "cells": [
  {
   "cell_type": "markdown",
   "id": "7c8685c8",
   "metadata": {},
   "source": [
    "# Q1. What is the meaning of multiple inheritance?\n",
    "\n",
    "Multiple inheritance is a feature of object-oriented programming that allows a class to inherit attributes and methods from multiple parent classes. This means that a subclass can have multiple superclasses and can inherit functionality from each of them. Multiple inheritance can be useful for creating complex object hierarchies, but it can also make code more difficult to understand and maintain.\n",
    "\n",
    "# Q2. What is the concept of delegation?\n",
    "\n",
    " Delegation is a design pattern in which an object forwards a method call to another object, known as the delegate. The delegate is responsible for implementing the method, while the original object is responsible for managing the delegation. Delegation is often used to encapsulate functionality in a separate object and to simplify the interface of the original object.\n",
    "\n",
    "# Q3. What is the concept of composition?\n",
    "\n",
    "Composition is a design pattern in which an object is made up of other objects, known as components. The components are combined to create a more complex object with additional functionality. Composition is often used as an alternative to inheritance when the desired functionality cannot be achieved through subclassing alone.\n",
    "\n",
    "# Q4. What are bound methods and how do we use them?\n",
    "\n",
    "Bound methods are methods that are bound to an instance of a class. When a method is called on an instance, the instance is automatically passed as the first argument to the method, which allows the method to operate on the instance's data. Bound methods can be accessed using dot notation, and they can be passed as arguments to other functions or methods.\n",
    "\n",
    "# Q5. What is the purpose of pseudoprivate attributes?\n",
    "\n",
    "The purpose of pseudoprivate attributes, also known as name mangling, is to create attributes that are only accessible from within the class and its subclasses. Pseudoprivate attributes are created by prefixing the attribute name with two underscores (__), which causes the attribute to be renamed with a prefix that includes the class name. This makes it more difficult for external code to accidentally modify or access the attribute, while still allowing the attribute to be used within the class and its subclasses. However, it should be noted that pseudoprivate attributes are not truly private, and they can still be accessed if their mangled names are known."
   ]
  },
  {
   "cell_type": "code",
   "execution_count": null,
   "id": "adb6c541",
   "metadata": {},
   "outputs": [],
   "source": []
  }
 ],
 "metadata": {
  "kernelspec": {
   "display_name": "Python 3 (ipykernel)",
   "language": "python",
   "name": "python3"
  },
  "language_info": {
   "codemirror_mode": {
    "name": "ipython",
    "version": 3
   },
   "file_extension": ".py",
   "mimetype": "text/x-python",
   "name": "python",
   "nbconvert_exporter": "python",
   "pygments_lexer": "ipython3",
   "version": "3.9.13"
  }
 },
 "nbformat": 4,
 "nbformat_minor": 5
}
