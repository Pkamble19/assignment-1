{
 "cells": [
  {
   "cell_type": "markdown",
   "id": "014d844b",
   "metadata": {},
   "source": [
    "# 1. Write a Python program to find sum of elements in list?"
   ]
  },
  {
   "cell_type": "code",
   "execution_count": 1,
   "id": "a50fd6a8",
   "metadata": {},
   "outputs": [
    {
     "name": "stdout",
     "output_type": "stream",
     "text": [
      "45\n"
     ]
    }
   ],
   "source": [
    "def sumlist(n):\n",
    "    out=0\n",
    "    for i in n:\n",
    "        if type(i) != str:\n",
    "            out+=i\n",
    "    print(out)\n",
    "\n",
    "sumlist([1,2,3,4,5,6,7,8,9])\n",
    "            "
   ]
  },
  {
   "cell_type": "markdown",
   "id": "60b8c708",
   "metadata": {},
   "source": [
    "# 2. Write a Python program to Multiply all numbers in the list?"
   ]
  },
  {
   "cell_type": "code",
   "execution_count": 2,
   "id": "267bd471",
   "metadata": {},
   "outputs": [
    {
     "name": "stdout",
     "output_type": "stream",
     "text": [
      "362880\n"
     ]
    }
   ],
   "source": [
    "def mullist(n):\n",
    "    out=1\n",
    "    for i in n:\n",
    "        if type(i) != str:\n",
    "            out=out*i\n",
    "    print(out)\n",
    "\n",
    "mullist([1,2,3,4,5,6,7,8,9])"
   ]
  },
  {
   "cell_type": "markdown",
   "id": "e830fce2",
   "metadata": {},
   "source": [
    "# 3. Write a Python program to find smallest number in a list?"
   ]
  },
  {
   "cell_type": "code",
   "execution_count": 3,
   "id": "797dccef",
   "metadata": {},
   "outputs": [
    {
     "name": "stdout",
     "output_type": "stream",
     "text": [
      "0\n"
     ]
    }
   ],
   "source": [
    "def smalllist(n):\n",
    "    s=n[0]\n",
    "    for i in n:\n",
    "        if i < n[0]:\n",
    "            s=i\n",
    "    print(s)\n",
    "\n",
    "smalllist([1,2,3,0,4,5,6,7,8,9])"
   ]
  },
  {
   "cell_type": "markdown",
   "id": "bcc5bd35",
   "metadata": {},
   "source": [
    "# 4. Write a Python program to find largest number in a list?"
   ]
  },
  {
   "cell_type": "code",
   "execution_count": 4,
   "id": "0ee9b0b8",
   "metadata": {},
   "outputs": [
    {
     "name": "stdout",
     "output_type": "stream",
     "text": [
      "9\n"
     ]
    }
   ],
   "source": [
    "def largelist(n):\n",
    "    s=n[0]\n",
    "    for i in n:\n",
    "        if i > s:\n",
    "            s=i\n",
    "    print(s)\n",
    "\n",
    "largelist([1,2,3,0,4,5,6,7,8,9])"
   ]
  },
  {
   "cell_type": "markdown",
   "id": "c869d6c2",
   "metadata": {},
   "source": [
    "# 5. Write a Python program to find second largest number in a list?"
   ]
  },
  {
   "cell_type": "code",
   "execution_count": 5,
   "id": "62241d1b",
   "metadata": {},
   "outputs": [
    {
     "name": "stdout",
     "output_type": "stream",
     "text": [
      "8\n"
     ]
    }
   ],
   "source": [
    "def sll(n):\n",
    "    n.sort()\n",
    "    print(n[-2])\n",
    "    \n",
    "sll([1,2,3,0,4,5,6,7,8,9])"
   ]
  },
  {
   "cell_type": "markdown",
   "id": "2dc8a58e",
   "metadata": {},
   "source": [
    "# 6. Write a Python program to find N largest elements from a list?"
   ]
  },
  {
   "cell_type": "code",
   "execution_count": 6,
   "id": "28a37201",
   "metadata": {},
   "outputs": [
    {
     "name": "stdout",
     "output_type": "stream",
     "text": [
      "[85, 41]\n"
     ]
    }
   ],
   "source": [
    "def Nmaxelements(list1, N):\n",
    "    final_list = []\n",
    " \n",
    "    for i in range(0, N):\n",
    "        max1 = 0\n",
    "         \n",
    "        for j in range(len(list1)):    \n",
    "            if list1[j] > max1:\n",
    "                max1 = list1[j];\n",
    "                 \n",
    "        list1.remove(max1);\n",
    "        final_list.append(max1)\n",
    "         \n",
    "    print(final_list)\n",
    " \n",
    "list1 = [2, 6, 41, 85, 0, 3, 7, 6, 10]\n",
    "N = 2\n",
    " \n",
    "Nmaxelements(list1, N)"
   ]
  },
  {
   "cell_type": "markdown",
   "id": "997be11e",
   "metadata": {},
   "source": [
    "# 7. Write a Python program to print even numbers in a list?"
   ]
  },
  {
   "cell_type": "code",
   "execution_count": 8,
   "id": "16380c83",
   "metadata": {},
   "outputs": [
    {
     "name": "stdout",
     "output_type": "stream",
     "text": [
      "2\n",
      "6\n",
      "0\n",
      "6\n",
      "10\n"
     ]
    }
   ],
   "source": [
    "def iseven(list1):\n",
    "    for i in list1:\n",
    "        if type(i)==int:\n",
    "            if (i%2)==0:\n",
    "                print (i)\n",
    "\n",
    "\n",
    "iseven([2, 6, 41, 85, 0, 3, 7, 6, 10])"
   ]
  },
  {
   "cell_type": "markdown",
   "id": "743c1b04",
   "metadata": {},
   "source": [
    "# 8. Write a Python program to print odd numbers in a List?"
   ]
  },
  {
   "cell_type": "code",
   "execution_count": 10,
   "id": "5522b29c",
   "metadata": {},
   "outputs": [
    {
     "name": "stdout",
     "output_type": "stream",
     "text": [
      "41\n",
      "85\n",
      "3\n",
      "7\n"
     ]
    }
   ],
   "source": [
    "def isodd(list1):\n",
    "    for i in list1:\n",
    "        if type(i)==int:\n",
    "            if (i%2)!=0:\n",
    "                print (i)\n",
    "\n",
    "\n",
    "isodd([2, 6, 41, 85, 0, 3, 7, 6, 10])"
   ]
  },
  {
   "cell_type": "markdown",
   "id": "34221508",
   "metadata": {},
   "source": [
    "# 9. Write a Python program to Remove empty List from List?"
   ]
  },
  {
   "cell_type": "code",
   "execution_count": 16,
   "id": "527dc17c",
   "metadata": {},
   "outputs": [
    {
     "data": {
      "text/plain": [
       "[2, 6, 41, 85, 0, 3, 7, 6, 10]"
      ]
     },
     "execution_count": 16,
     "metadata": {},
     "output_type": "execute_result"
    }
   ],
   "source": [
    "def isempty(list1):\n",
    "    for i in list1:\n",
    "        if type(i) == list:\n",
    "            if len(i)==0:\n",
    "                list1.remove(i)\n",
    "    return list1\n",
    "\n",
    "isempty(([2,[], 6, 41,[], 85, 0, 3, 7, 6, 10]))"
   ]
  },
  {
   "cell_type": "markdown",
   "id": "dc7adef0",
   "metadata": {},
   "source": [
    "\n",
    "# 10. Write a Python program to Cloning or Copying a list?"
   ]
  },
  {
   "cell_type": "code",
   "execution_count": 19,
   "id": "5cd2da22",
   "metadata": {},
   "outputs": [
    {
     "name": "stdout",
     "output_type": "stream",
     "text": [
      "[2, 6, 41, 85, 0, 3, 7, 6, 10] is orignal list and [2, 6, 41, 85, 0, 3, 7, 6, 10] is cloned list\n"
     ]
    }
   ],
   "source": [
    "def clonelist(list1):\n",
    "    list2=[]\n",
    "    for i in list1:\n",
    "        list2.append(i)\n",
    "    print (f'{list1} is orignal list and {list2} is cloned list')\n",
    "\n",
    "clonelist()"
   ]
  },
  {
   "cell_type": "markdown",
   "id": "da272eba",
   "metadata": {},
   "source": [
    "# 11. Write a Python program to Count occurrences of an element in a list?"
   ]
  },
  {
   "cell_type": "code",
   "execution_count": 24,
   "id": "08e7e5a0",
   "metadata": {},
   "outputs": [
    {
     "name": "stdout",
     "output_type": "stream",
     "text": [
      "Entre Your List Here = [2,4,2,3,5,2,3,45,2,3]\n",
      "Entre char or number you want to count= 2\n",
      "occurrences of 2 is in list is 4 times\n"
     ]
    }
   ],
   "source": [
    "def reli(list1,n):\n",
    "    out=0\n",
    "    for i in list1:\n",
    "        if i == n:\n",
    "            out+=1\n",
    "    print (f'occurrences of {n} is in list is {out} times')\n",
    "    \n",
    "list1=input('Entre Your List Here = ')\n",
    "n=input('Entre char or number you want to count= ')\n",
    "\n",
    "reli(list1,n)"
   ]
  },
  {
   "cell_type": "code",
   "execution_count": null,
   "id": "b034802e",
   "metadata": {},
   "outputs": [],
   "source": []
  }
 ],
 "metadata": {
  "kernelspec": {
   "display_name": "Python 3 (ipykernel)",
   "language": "python",
   "name": "python3"
  },
  "language_info": {
   "codemirror_mode": {
    "name": "ipython",
    "version": 3
   },
   "file_extension": ".py",
   "mimetype": "text/x-python",
   "name": "python",
   "nbconvert_exporter": "python",
   "pygments_lexer": "ipython3",
   "version": "3.9.13"
  }
 },
 "nbformat": 4,
 "nbformat_minor": 5
}
