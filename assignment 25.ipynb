{
 "cells": [
  {
   "cell_type": "markdown",
   "id": "447dca0d",
   "metadata": {},
   "source": [
    "Q1. A numpy array is a homogeneous array with a fixed size and numerical data types. On the other hand, a pandas data frame is a two-dimensional, heterogeneous, size-mutable tabular data structure with labeled axes. One can convert a pandas data frame to a numpy array by using the .values attribute of the data frame, and convert a numpy array to a pandas data frame by using the pd.DataFrame() constructor.\n",
    "\n",
    "Q2. When a user enters a stock-ticker symbol, it can result in errors such as typos or non-existent symbols. To handle it, one can use try-except blocks to catch errors and prompt the user to enter a valid symbol. Additionally, one can use data validation techniques to ensure that the input meets the requirements.\n",
    "\n",
    "Q3. Some of the plotting techniques used to produce a stock-market chart include line charts, candlestick charts, and scatter plots.\n",
    "\n",
    "Q4. A legend is essential on a stock market chart because it provides information about the data that is being presented. It helps the viewer to identify the different data series, interpret the data, and make informed decisions.\n",
    "\n",
    "Q5. The best way to limit the length of a pandas data frame to less than a year is by using boolean indexing with a conditional statement that filters out rows with dates outside the desired range.\n",
    "\n",
    "Q6. A 180-day moving average is a technical analysis indicator that calculates the average closing price of a security over the last 180 trading days. It is commonly used by traders to identify trends and forecast future price movements.\n",
    "\n",
    "Q7. The chapter's final example did not use \"indirect\" importing. Indirect importing is a technique where you import a module using a string containing the module name, instead of using the module name directly in the import statement. An example of indirect importing is module = __import__('module_name').\n",
    "\n",
    "\n",
    "\n",
    "\n",
    "\n"
   ]
  },
  {
   "cell_type": "code",
   "execution_count": null,
   "id": "913b39b3",
   "metadata": {},
   "outputs": [],
   "source": []
  }
 ],
 "metadata": {
  "kernelspec": {
   "display_name": "Python 3 (ipykernel)",
   "language": "python",
   "name": "python3"
  },
  "language_info": {
   "codemirror_mode": {
    "name": "ipython",
    "version": 3
   },
   "file_extension": ".py",
   "mimetype": "text/x-python",
   "name": "python",
   "nbconvert_exporter": "python",
   "pygments_lexer": "ipython3",
   "version": "3.9.13"
  }
 },
 "nbformat": 4,
 "nbformat_minor": 5
}
